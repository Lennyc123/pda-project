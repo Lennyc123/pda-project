{
 "cells": [
  {
   "cell_type": "markdown",
   "metadata": {},
   "source": [
    "# Programming for Data Analysis - Project 2020, by Leonard Curtin"
   ]
  },
  {
   "cell_type": "markdown",
   "metadata": {},
   "source": [
    "Create data set by simulating real-world phenomenon.\n",
    "usage of numpy.random for creating data.\n",
    "\n",
    "One hundred data points across at least four different variables.\n",
    "\n",
    "investigate - types of variables, likely distributions, and their relationships with each other.\n",
    "\n"
   ]
  },
  {
   "cell_type": "code",
   "execution_count": null,
   "metadata": {},
   "outputs": [],
   "source": []
  },
  {
   "cell_type": "markdown",
   "metadata": {},
   "source": [
    "Examining pheonomenon"
   ]
  },
  {
   "cell_type": "markdown",
   "metadata": {},
   "source": [
    "Factors that increase or decrease the likeihood of a road accident occuring"
   ]
  },
  {
   "cell_type": "markdown",
   "metadata": {},
   "source": [
    "Creation of a sample dataset - sample size 500 drivers\n",
    "\n",
    "### Variables:\n",
    "Age range from 17 - 65 Creation of a categorical dataset for age, 3 categories\n",
    "\n",
    "young:  17-25 , middle aged:  26-45 , senior:  46-66 \n",
    "\n",
    "Gender - male or female \n",
    "\n",
    "Driver experience (Years) range from 0 - 49\n",
    "\n",
    "Human factors - risk taking behaviours: excessive speed, drug and alcohol use.\n",
    "\n",
    "Environmental factors - \n",
    "\n"
   ]
  },
  {
   "cell_type": "code",
   "execution_count": null,
   "metadata": {},
   "outputs": [],
   "source": []
  },
  {
   "cell_type": "code",
   "execution_count": null,
   "metadata": {},
   "outputs": [],
   "source": []
  },
  {
   "cell_type": "code",
   "execution_count": 16,
   "metadata": {},
   "outputs": [],
   "source": [
    "import numpy as np\n",
    "from numpy.random import default_rng\n",
    "rng = default_rng()"
   ]
  },
  {
   "cell_type": "markdown",
   "metadata": {},
   "source": [
    "Creation of sample: number of drivers"
   ]
  },
  {
   "cell_type": "markdown",
   "metadata": {},
   "source": [
    "Creation of age variable relative to sample size"
   ]
  },
  {
   "cell_type": "code",
   "execution_count": 30,
   "metadata": {
    "scrolled": true
   },
   "outputs": [
    {
     "data": {
      "text/plain": [
       "array([43, 22, 65, 36, 43, 66, 38, 18, 58, 22, 20, 39, 63, 49, 44, 31, 25,\n",
       "       39, 21, 52, 41, 58, 43, 48, 26, 47, 55, 50, 47, 25, 62, 57, 43, 63,\n",
       "       28, 48, 60, 48, 35, 43, 24, 19, 39, 40, 34, 50, 37, 33, 42, 19, 21,\n",
       "       40, 41, 24, 25, 38, 35, 55, 48, 22, 64, 61, 57, 39, 63, 61, 54, 56,\n",
       "       61, 51, 20, 46, 27, 30, 26, 50, 32, 30, 21, 56, 47, 28, 17, 20, 24,\n",
       "       52, 62, 22, 40, 65, 42, 17, 64, 56, 50, 50, 22, 33, 61, 38, 37, 19,\n",
       "       41, 61, 27, 60, 17, 63, 31, 25, 43, 45, 53, 42, 32, 61, 43, 34, 21,\n",
       "       53, 33, 42, 55, 61, 58, 56, 19, 52, 57, 56, 18, 53, 49, 65, 58, 63,\n",
       "       40, 46, 51, 45, 18, 56, 60, 55, 48, 41, 54, 34, 63, 38, 18, 50, 62,\n",
       "       27, 51, 45, 46, 50, 20, 30, 64, 22, 63, 19, 50, 47, 40, 62, 34, 61,\n",
       "       51, 21, 47, 52, 42, 63, 60, 55, 25, 26, 41, 59, 38, 23, 24, 17, 62,\n",
       "       23, 21, 64, 37, 17, 49, 21, 28, 34, 22, 42, 18, 38, 42, 36, 49, 48,\n",
       "       20, 61, 32, 19, 52, 47, 25, 37, 37, 53, 19, 31, 49, 61, 41, 53, 21,\n",
       "       64, 35, 24, 59, 61, 64, 41, 54, 62, 33, 58, 60, 38, 44, 51, 53, 21,\n",
       "       21, 64, 51, 19, 30, 54, 53, 41, 34, 61, 33, 41, 41, 48, 33, 18, 49,\n",
       "       18, 55, 57, 60, 40, 51, 54, 44, 62, 56, 61, 19, 57, 29, 36, 65, 34,\n",
       "       17, 21, 30, 26, 36, 26, 33, 21, 43, 22, 25, 38, 50, 51, 34, 37, 63,\n",
       "       38, 23, 20, 52, 64, 37, 50, 60, 47, 27, 46, 56, 51, 18, 27, 40, 59,\n",
       "       53, 26, 20, 33, 62, 64, 40, 62, 47, 38, 35, 51, 62, 54, 47, 21, 21,\n",
       "       35, 22, 62, 31, 55, 41, 26, 18, 21, 58, 17, 22, 59, 24, 55, 49, 34,\n",
       "       23, 28, 54, 59, 64, 62, 31, 29, 41, 20, 40, 47, 17, 29, 54, 56, 19,\n",
       "       29, 47, 20, 61, 43, 59, 59, 53, 52, 46, 25, 49, 43, 55, 56, 56, 46,\n",
       "       18, 40, 58, 42, 38, 32, 47, 39, 59, 56, 35, 52, 34, 66, 39, 56, 38,\n",
       "       51, 57, 37, 19, 35, 49, 49, 44, 62, 31, 30, 61, 37, 18, 36, 39, 36,\n",
       "       30, 60, 53, 31, 57, 64, 32, 32, 53, 34, 61, 47, 17, 28, 66, 48, 27,\n",
       "       20, 46, 61, 40, 38, 27, 39, 57, 60, 39, 30, 66, 42, 39, 48, 47, 53,\n",
       "       34, 41, 36, 46, 41, 47, 25, 56, 41, 30, 28, 25, 21, 21, 64, 27, 46,\n",
       "       30, 66, 31, 32, 46, 32, 42, 62, 28, 19, 42, 55, 62, 65, 17, 28, 21,\n",
       "       64, 52, 17, 62, 47, 53, 65, 41, 19, 20, 32, 55, 30, 19, 52, 18, 58,\n",
       "       42, 18, 61, 32, 55, 32, 54, 18, 66, 64, 21, 28, 19, 20, 45, 58, 37,\n",
       "       57, 41, 53, 40, 34, 22, 30, 66, 30, 59, 35, 40, 39, 51, 39, 64, 26,\n",
       "       18, 51, 21, 48, 20, 64, 42, 28, 54, 18, 63, 27, 57, 38, 50, 49, 35,\n",
       "       44, 24, 53, 37, 18, 42, 26, 23, 53, 32, 63, 38, 58, 32, 17, 21, 43,\n",
       "       24, 18, 61, 33, 65, 51, 44, 18, 54, 45, 60, 60, 44, 49, 21, 54, 63,\n",
       "       32, 32, 65, 25, 34, 26, 64, 24, 49, 65, 31, 22, 47, 23, 38, 38, 21,\n",
       "       42, 53, 36, 21, 23, 56, 52, 23, 40, 40, 63, 57, 38, 27, 66, 17, 62,\n",
       "       47, 19, 65, 56, 44, 26, 19, 63, 18, 54, 64, 23, 62, 26, 38, 36, 48,\n",
       "       51, 19, 54, 43, 53, 17, 32, 51, 43, 53, 37, 19, 27, 22, 49, 26, 63,\n",
       "       28, 35, 21, 33, 45, 39, 37, 34, 40, 46, 39, 61, 38, 55, 57, 52, 34,\n",
       "       25, 28, 55, 25, 51, 20, 33, 35, 43, 53, 18, 58, 48, 46, 45, 22, 65,\n",
       "       64, 66, 22, 36, 48, 66, 54, 37, 25, 57, 43, 56, 66, 48, 23, 47, 63,\n",
       "       37, 50, 59, 45, 31, 54, 40, 33, 38, 66, 23, 53, 23, 26, 32, 62, 19,\n",
       "       66, 55, 61, 31, 40, 53, 49, 41, 60, 31, 56, 66, 55, 35, 60, 58, 57,\n",
       "       39, 60, 59, 18, 25, 61, 28, 45, 50, 49, 17, 22, 63, 25, 21, 21, 52,\n",
       "       17, 65, 43, 39, 59, 56, 63, 56, 60, 47, 31, 24, 49, 56, 54, 53, 28,\n",
       "       18, 42, 25, 48, 18, 26, 54, 57, 59, 29, 64, 59, 28, 63, 50, 35, 33,\n",
       "       63, 18, 64, 29, 25, 25, 61, 37, 21, 47, 33, 54, 33, 43, 64, 42, 52,\n",
       "       39, 32, 64, 38, 55, 64, 52, 30, 20, 33, 58, 25, 49, 19, 19, 32, 31,\n",
       "       32, 36, 61, 36, 17, 62, 45, 17, 25, 41, 18, 17, 29, 41, 40, 48, 54,\n",
       "       31, 41, 29, 23, 66, 33, 58, 26, 52, 38, 39, 61, 35, 20, 53, 62, 53,\n",
       "       35, 57, 62, 41, 44, 66, 58, 46, 60, 66, 23, 62, 40, 23, 55, 62, 41,\n",
       "       49, 60, 32, 18, 43, 23, 60, 19, 30, 45, 46, 31, 54, 64, 61, 21, 42,\n",
       "       55, 31, 44, 23, 54, 33, 42, 46, 32, 24, 48, 32, 19, 48, 61, 54, 32,\n",
       "       22, 66, 54, 29, 18, 52, 61, 61, 30, 39, 52, 66, 23, 53, 43, 22, 53,\n",
       "       19, 32, 53, 36, 20, 56, 43, 42, 55, 28, 23, 24, 47, 38, 25, 27, 30,\n",
       "       59, 47, 29, 26, 40, 38, 49, 33, 30, 17, 22, 41, 21, 17, 40, 21, 20,\n",
       "       19, 62, 26, 26, 63, 38, 38, 23, 62, 24, 33, 47, 45, 54, 18, 59, 56,\n",
       "       41, 39, 39, 43, 46, 51, 22, 55, 56, 61, 62, 56, 44, 51, 23, 53, 38,\n",
       "       33, 41, 51, 55, 47, 56, 21, 37, 26, 24, 23, 20, 30, 17],\n",
       "      dtype=int64)"
      ]
     },
     "execution_count": 30,
     "metadata": {},
     "output_type": "execute_result"
    }
   ],
   "source": [
    "age = rng.integers(17, 66, 1000, endpoint=True)\n",
    "age"
   ]
  },
  {
   "cell_type": "markdown",
   "metadata": {},
   "source": [
    "Create Dataset"
   ]
  },
  {
   "cell_type": "code",
   "execution_count": 18,
   "metadata": {},
   "outputs": [],
   "source": [
    "import pandas as pd"
   ]
  },
  {
   "cell_type": "code",
   "execution_count": 19,
   "metadata": {},
   "outputs": [],
   "source": [
    "df = pd.DataFrame(age, columns=[\"age\"])"
   ]
  },
  {
   "cell_type": "code",
   "execution_count": 20,
   "metadata": {
    "scrolled": false
   },
   "outputs": [
    {
     "data": {
      "text/html": [
       "<div>\n",
       "<style scoped>\n",
       "    .dataframe tbody tr th:only-of-type {\n",
       "        vertical-align: middle;\n",
       "    }\n",
       "\n",
       "    .dataframe tbody tr th {\n",
       "        vertical-align: top;\n",
       "    }\n",
       "\n",
       "    .dataframe thead th {\n",
       "        text-align: right;\n",
       "    }\n",
       "</style>\n",
       "<table border=\"1\" class=\"dataframe\">\n",
       "  <thead>\n",
       "    <tr style=\"text-align: right;\">\n",
       "      <th></th>\n",
       "      <th>age</th>\n",
       "    </tr>\n",
       "  </thead>\n",
       "  <tbody>\n",
       "    <tr>\n",
       "      <th>0</th>\n",
       "      <td>57</td>\n",
       "    </tr>\n",
       "    <tr>\n",
       "      <th>1</th>\n",
       "      <td>63</td>\n",
       "    </tr>\n",
       "    <tr>\n",
       "      <th>2</th>\n",
       "      <td>52</td>\n",
       "    </tr>\n",
       "    <tr>\n",
       "      <th>3</th>\n",
       "      <td>65</td>\n",
       "    </tr>\n",
       "    <tr>\n",
       "      <th>4</th>\n",
       "      <td>52</td>\n",
       "    </tr>\n",
       "    <tr>\n",
       "      <th>...</th>\n",
       "      <td>...</td>\n",
       "    </tr>\n",
       "    <tr>\n",
       "      <th>995</th>\n",
       "      <td>17</td>\n",
       "    </tr>\n",
       "    <tr>\n",
       "      <th>996</th>\n",
       "      <td>29</td>\n",
       "    </tr>\n",
       "    <tr>\n",
       "      <th>997</th>\n",
       "      <td>20</td>\n",
       "    </tr>\n",
       "    <tr>\n",
       "      <th>998</th>\n",
       "      <td>47</td>\n",
       "    </tr>\n",
       "    <tr>\n",
       "      <th>999</th>\n",
       "      <td>59</td>\n",
       "    </tr>\n",
       "  </tbody>\n",
       "</table>\n",
       "<p>1000 rows × 1 columns</p>\n",
       "</div>"
      ],
      "text/plain": [
       "     age\n",
       "0     57\n",
       "1     63\n",
       "2     52\n",
       "3     65\n",
       "4     52\n",
       "..   ...\n",
       "995   17\n",
       "996   29\n",
       "997   20\n",
       "998   47\n",
       "999   59\n",
       "\n",
       "[1000 rows x 1 columns]"
      ]
     },
     "execution_count": 20,
     "metadata": {},
     "output_type": "execute_result"
    }
   ],
   "source": [
    "df"
   ]
  },
  {
   "cell_type": "markdown",
   "metadata": {},
   "source": [
    "Creation of age categories: young, middle aged, senior"
   ]
  },
  {
   "cell_type": "code",
   "execution_count": 21,
   "metadata": {
    "scrolled": false
   },
   "outputs": [],
   "source": [
    "df['age category'] = np.where(df['age'] > 50, 'senior', (np.where(df['age'] <25, 'young', 'middle aged')))"
   ]
  },
  {
   "cell_type": "code",
   "execution_count": 22,
   "metadata": {},
   "outputs": [
    {
     "data": {
      "text/html": [
       "<div>\n",
       "<style scoped>\n",
       "    .dataframe tbody tr th:only-of-type {\n",
       "        vertical-align: middle;\n",
       "    }\n",
       "\n",
       "    .dataframe tbody tr th {\n",
       "        vertical-align: top;\n",
       "    }\n",
       "\n",
       "    .dataframe thead th {\n",
       "        text-align: right;\n",
       "    }\n",
       "</style>\n",
       "<table border=\"1\" class=\"dataframe\">\n",
       "  <thead>\n",
       "    <tr style=\"text-align: right;\">\n",
       "      <th></th>\n",
       "      <th>age</th>\n",
       "      <th>age category</th>\n",
       "    </tr>\n",
       "  </thead>\n",
       "  <tbody>\n",
       "    <tr>\n",
       "      <th>0</th>\n",
       "      <td>57</td>\n",
       "      <td>senior</td>\n",
       "    </tr>\n",
       "    <tr>\n",
       "      <th>1</th>\n",
       "      <td>63</td>\n",
       "      <td>senior</td>\n",
       "    </tr>\n",
       "    <tr>\n",
       "      <th>2</th>\n",
       "      <td>52</td>\n",
       "      <td>senior</td>\n",
       "    </tr>\n",
       "    <tr>\n",
       "      <th>3</th>\n",
       "      <td>65</td>\n",
       "      <td>senior</td>\n",
       "    </tr>\n",
       "    <tr>\n",
       "      <th>4</th>\n",
       "      <td>52</td>\n",
       "      <td>senior</td>\n",
       "    </tr>\n",
       "    <tr>\n",
       "      <th>5</th>\n",
       "      <td>19</td>\n",
       "      <td>young</td>\n",
       "    </tr>\n",
       "    <tr>\n",
       "      <th>6</th>\n",
       "      <td>59</td>\n",
       "      <td>senior</td>\n",
       "    </tr>\n",
       "    <tr>\n",
       "      <th>7</th>\n",
       "      <td>29</td>\n",
       "      <td>middle aged</td>\n",
       "    </tr>\n",
       "    <tr>\n",
       "      <th>8</th>\n",
       "      <td>61</td>\n",
       "      <td>senior</td>\n",
       "    </tr>\n",
       "    <tr>\n",
       "      <th>9</th>\n",
       "      <td>41</td>\n",
       "      <td>middle aged</td>\n",
       "    </tr>\n",
       "    <tr>\n",
       "      <th>10</th>\n",
       "      <td>66</td>\n",
       "      <td>senior</td>\n",
       "    </tr>\n",
       "    <tr>\n",
       "      <th>11</th>\n",
       "      <td>21</td>\n",
       "      <td>young</td>\n",
       "    </tr>\n",
       "    <tr>\n",
       "      <th>12</th>\n",
       "      <td>17</td>\n",
       "      <td>young</td>\n",
       "    </tr>\n",
       "    <tr>\n",
       "      <th>13</th>\n",
       "      <td>39</td>\n",
       "      <td>middle aged</td>\n",
       "    </tr>\n",
       "    <tr>\n",
       "      <th>14</th>\n",
       "      <td>57</td>\n",
       "      <td>senior</td>\n",
       "    </tr>\n",
       "    <tr>\n",
       "      <th>15</th>\n",
       "      <td>62</td>\n",
       "      <td>senior</td>\n",
       "    </tr>\n",
       "    <tr>\n",
       "      <th>16</th>\n",
       "      <td>45</td>\n",
       "      <td>middle aged</td>\n",
       "    </tr>\n",
       "    <tr>\n",
       "      <th>17</th>\n",
       "      <td>51</td>\n",
       "      <td>senior</td>\n",
       "    </tr>\n",
       "    <tr>\n",
       "      <th>18</th>\n",
       "      <td>60</td>\n",
       "      <td>senior</td>\n",
       "    </tr>\n",
       "    <tr>\n",
       "      <th>19</th>\n",
       "      <td>32</td>\n",
       "      <td>middle aged</td>\n",
       "    </tr>\n",
       "    <tr>\n",
       "      <th>20</th>\n",
       "      <td>58</td>\n",
       "      <td>senior</td>\n",
       "    </tr>\n",
       "  </tbody>\n",
       "</table>\n",
       "</div>"
      ],
      "text/plain": [
       "    age age category\n",
       "0    57       senior\n",
       "1    63       senior\n",
       "2    52       senior\n",
       "3    65       senior\n",
       "4    52       senior\n",
       "5    19        young\n",
       "6    59       senior\n",
       "7    29  middle aged\n",
       "8    61       senior\n",
       "9    41  middle aged\n",
       "10   66       senior\n",
       "11   21        young\n",
       "12   17        young\n",
       "13   39  middle aged\n",
       "14   57       senior\n",
       "15   62       senior\n",
       "16   45  middle aged\n",
       "17   51       senior\n",
       "18   60       senior\n",
       "19   32  middle aged\n",
       "20   58       senior"
      ]
     },
     "execution_count": 22,
     "metadata": {},
     "output_type": "execute_result"
    }
   ],
   "source": [
    "df.head(21)"
   ]
  },
  {
   "cell_type": "markdown",
   "metadata": {},
   "source": [
    "Creation of Gender category"
   ]
  },
  {
   "cell_type": "code",
   "execution_count": 23,
   "metadata": {
    "scrolled": true
   },
   "outputs": [],
   "source": [
    "gendersel = rng.binomial(1, .5, 1000)\n",
    "df['gender'] = np.where(gendersel > 0, 'male' , 'female')"
   ]
  },
  {
   "cell_type": "code",
   "execution_count": 24,
   "metadata": {},
   "outputs": [
    {
     "data": {
      "text/html": [
       "<div>\n",
       "<style scoped>\n",
       "    .dataframe tbody tr th:only-of-type {\n",
       "        vertical-align: middle;\n",
       "    }\n",
       "\n",
       "    .dataframe tbody tr th {\n",
       "        vertical-align: top;\n",
       "    }\n",
       "\n",
       "    .dataframe thead th {\n",
       "        text-align: right;\n",
       "    }\n",
       "</style>\n",
       "<table border=\"1\" class=\"dataframe\">\n",
       "  <thead>\n",
       "    <tr style=\"text-align: right;\">\n",
       "      <th></th>\n",
       "      <th>age</th>\n",
       "      <th>age category</th>\n",
       "      <th>gender</th>\n",
       "    </tr>\n",
       "  </thead>\n",
       "  <tbody>\n",
       "    <tr>\n",
       "      <th>0</th>\n",
       "      <td>57</td>\n",
       "      <td>senior</td>\n",
       "      <td>male</td>\n",
       "    </tr>\n",
       "    <tr>\n",
       "      <th>1</th>\n",
       "      <td>63</td>\n",
       "      <td>senior</td>\n",
       "      <td>male</td>\n",
       "    </tr>\n",
       "    <tr>\n",
       "      <th>2</th>\n",
       "      <td>52</td>\n",
       "      <td>senior</td>\n",
       "      <td>female</td>\n",
       "    </tr>\n",
       "    <tr>\n",
       "      <th>3</th>\n",
       "      <td>65</td>\n",
       "      <td>senior</td>\n",
       "      <td>female</td>\n",
       "    </tr>\n",
       "    <tr>\n",
       "      <th>4</th>\n",
       "      <td>52</td>\n",
       "      <td>senior</td>\n",
       "      <td>male</td>\n",
       "    </tr>\n",
       "  </tbody>\n",
       "</table>\n",
       "</div>"
      ],
      "text/plain": [
       "   age age category  gender\n",
       "0   57       senior    male\n",
       "1   63       senior    male\n",
       "2   52       senior  female\n",
       "3   65       senior  female\n",
       "4   52       senior    male"
      ]
     },
     "execution_count": 24,
     "metadata": {},
     "output_type": "execute_result"
    }
   ],
   "source": [
    "df.head(5)"
   ]
  },
  {
   "cell_type": "markdown",
   "metadata": {},
   "source": [
    "Creation of variable numbers of years driving experience"
   ]
  },
  {
   "cell_type": "markdown",
   "metadata": {},
   "source": [
    "age ranges from 17 to 66\n",
    "\n",
    "Driver experience (Years) range from 0 to 49\n",
    "\n",
    "if age = 17 driving experience = 0\n",
    "\n",
    "    "
   ]
  },
  {
   "cell_type": "code",
   "execution_count": 31,
   "metadata": {},
   "outputs": [],
   "source": [
    "years_of_experience = []\n",
    "\n",
    "for x in df['age']:\n",
    "    years_of_experience.append( 0 if x == 17 else rng.integers(0, x-17))\n",
    "    \n",
    "df['years of experience'] = years_of_experience"
   ]
  },
  {
   "cell_type": "code",
   "execution_count": 32,
   "metadata": {},
   "outputs": [
    {
     "data": {
      "text/html": [
       "<div>\n",
       "<style scoped>\n",
       "    .dataframe tbody tr th:only-of-type {\n",
       "        vertical-align: middle;\n",
       "    }\n",
       "\n",
       "    .dataframe tbody tr th {\n",
       "        vertical-align: top;\n",
       "    }\n",
       "\n",
       "    .dataframe thead th {\n",
       "        text-align: right;\n",
       "    }\n",
       "</style>\n",
       "<table border=\"1\" class=\"dataframe\">\n",
       "  <thead>\n",
       "    <tr style=\"text-align: right;\">\n",
       "      <th></th>\n",
       "      <th>age</th>\n",
       "      <th>age category</th>\n",
       "      <th>gender</th>\n",
       "      <th>years of experience</th>\n",
       "    </tr>\n",
       "  </thead>\n",
       "  <tbody>\n",
       "    <tr>\n",
       "      <th>0</th>\n",
       "      <td>57</td>\n",
       "      <td>senior</td>\n",
       "      <td>male</td>\n",
       "      <td>4</td>\n",
       "    </tr>\n",
       "    <tr>\n",
       "      <th>1</th>\n",
       "      <td>63</td>\n",
       "      <td>senior</td>\n",
       "      <td>male</td>\n",
       "      <td>27</td>\n",
       "    </tr>\n",
       "    <tr>\n",
       "      <th>2</th>\n",
       "      <td>52</td>\n",
       "      <td>senior</td>\n",
       "      <td>female</td>\n",
       "      <td>4</td>\n",
       "    </tr>\n",
       "    <tr>\n",
       "      <th>3</th>\n",
       "      <td>65</td>\n",
       "      <td>senior</td>\n",
       "      <td>female</td>\n",
       "      <td>28</td>\n",
       "    </tr>\n",
       "    <tr>\n",
       "      <th>4</th>\n",
       "      <td>52</td>\n",
       "      <td>senior</td>\n",
       "      <td>male</td>\n",
       "      <td>30</td>\n",
       "    </tr>\n",
       "    <tr>\n",
       "      <th>...</th>\n",
       "      <td>...</td>\n",
       "      <td>...</td>\n",
       "      <td>...</td>\n",
       "      <td>...</td>\n",
       "    </tr>\n",
       "    <tr>\n",
       "      <th>995</th>\n",
       "      <td>17</td>\n",
       "      <td>young</td>\n",
       "      <td>male</td>\n",
       "      <td>0</td>\n",
       "    </tr>\n",
       "    <tr>\n",
       "      <th>996</th>\n",
       "      <td>29</td>\n",
       "      <td>middle aged</td>\n",
       "      <td>female</td>\n",
       "      <td>6</td>\n",
       "    </tr>\n",
       "    <tr>\n",
       "      <th>997</th>\n",
       "      <td>20</td>\n",
       "      <td>young</td>\n",
       "      <td>male</td>\n",
       "      <td>2</td>\n",
       "    </tr>\n",
       "    <tr>\n",
       "      <th>998</th>\n",
       "      <td>47</td>\n",
       "      <td>middle aged</td>\n",
       "      <td>female</td>\n",
       "      <td>5</td>\n",
       "    </tr>\n",
       "    <tr>\n",
       "      <th>999</th>\n",
       "      <td>59</td>\n",
       "      <td>senior</td>\n",
       "      <td>male</td>\n",
       "      <td>26</td>\n",
       "    </tr>\n",
       "  </tbody>\n",
       "</table>\n",
       "<p>1000 rows × 4 columns</p>\n",
       "</div>"
      ],
      "text/plain": [
       "     age age category  gender  years of experience\n",
       "0     57       senior    male                    4\n",
       "1     63       senior    male                   27\n",
       "2     52       senior  female                    4\n",
       "3     65       senior  female                   28\n",
       "4     52       senior    male                   30\n",
       "..   ...          ...     ...                  ...\n",
       "995   17        young    male                    0\n",
       "996   29  middle aged  female                    6\n",
       "997   20        young    male                    2\n",
       "998   47  middle aged  female                    5\n",
       "999   59       senior    male                   26\n",
       "\n",
       "[1000 rows x 4 columns]"
      ]
     },
     "execution_count": 32,
     "metadata": {},
     "output_type": "execute_result"
    }
   ],
   "source": [
    "df"
   ]
  },
  {
   "cell_type": "markdown",
   "metadata": {},
   "source": [
    "Change values of driving experience to be more accurate"
   ]
  },
  {
   "cell_type": "markdown",
   "metadata": {},
   "source": [
    "Plot histogram of age"
   ]
  },
  {
   "cell_type": "code",
   "execution_count": 33,
   "metadata": {},
   "outputs": [],
   "source": [
    "import matplotlib\n",
    "import matplotlib.pyplot as plt\n",
    "plt.rcParams['figure.figsize'] = 16, 6"
   ]
  },
  {
   "cell_type": "code",
   "execution_count": 34,
   "metadata": {},
   "outputs": [
    {
     "data": {
      "image/png": "[encoded data removed]",
      "text/plain": [
       "<Figure size 1152x432 with 1 Axes>"
      ]
     },
     "metadata": {
      "needs_background": "light"
     },
     "output_type": "display_data"
    }
   ],
   "source": [
    "plt.hist(x=age, histtype=\"step\", bins=50)\n",
    "plt.xlabel('Age')\n",
    "plt.ylabel('Count')\n",
    "plt.title('Histogram of Age distribution');"
   ]
  },
  {
   "cell_type": "code",
   "execution_count": 35,
   "metadata": {
    "scrolled": false
   },
   "outputs": [
    {
     "data": {
      "text/plain": [
       "<seaborn.axisgrid.FacetGrid at 0x22daeefd400>"
      ]
     },
     "execution_count": 35,
     "metadata": {},
     "output_type": "execute_result"
    },
    {
     "data": {
      "image/png": "[encoded data removed]",
      "text/plain": [
       "<Figure size 360x360 with 1 Axes>"
      ]
     },
     "metadata": {
      "needs_background": "light"
     },
     "output_type": "display_data"
    }
   ],
   "source": [
    "import seaborn as sns\n",
    "ax = sns.displot(x=age, bins=20, kde=True)\n",
    "ax.set(xlabel=\"Age\")"
   ]
  },
  {
   "cell_type": "code",
   "execution_count": null,
   "metadata": {},
   "outputs": [],
   "source": []
  },
  {
   "cell_type": "code",
   "execution_count": null,
   "metadata": {},
   "outputs": [],
   "source": []
  },
  {
   "cell_type": "markdown",
   "metadata": {},
   "source": [
    "The causes of motor vehicle collisions are complex, but broadly depend on characteristics of drivers. [1]"
   ]
  },
  {
   "cell_type": "markdown",
   "metadata": {},
   "source": [
    "## References"
   ]
  },
  {
   "cell_type": "markdown",
   "metadata": {},
   "source": [
    "[1] https://www.sciencedirect.com/science/article/pii/S0001457518300873#bib0155\n",
    "\n",
    "https://stackoverflow.com/questions/39109045/numpy-where-with-multiple-conditions\n",
    "\n"
   ]
  },
  {
   "cell_type": "code",
   "execution_count": null,
   "metadata": {},
   "outputs": [],
   "source": []
  }
 ],
 "metadata": {
  "kernelspec": {
   "display_name": "Python 3",
   "language": "python",
   "name": "python3"
  },
  "language_info": {
   "codemirror_mode": {
    "name": "ipython",
    "version": 3
   },
   "file_extension": ".py",
   "mimetype": "text/x-python",
   "name": "python",
   "nbconvert_exporter": "python",
   "pygments_lexer": "ipython3",
   "version": "3.8.5"
  }
 },
 "nbformat": 4,
 "nbformat_minor": 4
}
