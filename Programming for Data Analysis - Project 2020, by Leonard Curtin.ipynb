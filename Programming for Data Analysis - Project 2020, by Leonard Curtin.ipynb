{
 "cells": [
  {
   "cell_type": "markdown",
   "metadata": {},
   "source": [
    "# Programming for Data Analysis - Project 2020, by Leonard Curtin\n",
    "<hr>"
   ]
  },
  {
   "cell_type": "markdown",
   "metadata": {},
   "source": [
    "## Contents of the notebook"
   ]
  },
  {
   "cell_type": "markdown",
   "metadata": {},
   "source": [
    "Within the following notebook, the pheonomenon of the likelihood that ones is to find themselves in a road accident has been examined. The overarching aim of the project itself, is to view the relationship between the collaborative effects of several variables and their relationship with the likelihood of one being in a road accident."
   ]
  },
  {
   "cell_type": "markdown",
   "metadata": {},
   "source": [
    "Various factors that are suggested to increase or decrease the likelihood of a road accident occuring have been proposed within this project.\n",
    "<hr>"
   ]
  },
  {
   "cell_type": "markdown",
   "metadata": {},
   "source": [
    "## Project aims"
   ]
  },
  {
   "cell_type": "markdown",
   "metadata": {},
   "source": [
    "### The aims of the following project are to:\n",
    "\n",
    "Choose a real-world phenomenon that can be measured and for which you could\n",
    "collect at least one-hundred data points across at least four different variables.\n",
    "\n",
    "Investigate the types of variables involved, their likely distributions, and their relationships with each other.\n",
    "\n",
    "Synthesise/simulate a data set as closely matching their properties as possible.\n",
    "\n",
    "Detail one's research and implement the simulation in a Jupyter notebook – the\n",
    "data set itself can simply be displayed in an output cell within the notebook.\n",
    "\n",
    "<hr>"
   ]
  },
  {
   "cell_type": "markdown",
   "metadata": {},
   "source": [
    "## Examining the factors related to the pheonomenon of one's potential to be in a road accident"
   ]
  },
  {
   "cell_type": "markdown",
   "metadata": {},
   "source": [
    "Proposed within this section, is an insight into research based findings, that suggests several various factors that lead to road accidents."
   ]
  },
  {
   "cell_type": "markdown",
   "metadata": {},
   "source": [
    "As stated by the world health organization, motor vechile collisions are suggested to cause greater than 1.2 million deaths globally, alongside this statistic a greater number of non-fatal injuries are reported yearly [1]."
   ]
  },
  {
   "cell_type": "markdown",
   "metadata": {},
   "source": [
    "Traffic accidents are suggested to be the leading cause of hospitalization in adolescence, in particular the age category of 18–24-years occupies a portion of 23% of deaths by traffic accidents [2]. Prevous studies have reported that during the year of 2011, 22% of road accidents involved at least one young driver aged 17–24 years [3]. According to the data from the French ONISR, young people aged 18–24 years still contributed to 17% of road deaths in 2014, although only representing 8% of the population. Hence, they seem to be twice as likely as other age groups to lose their lives on the roads [2]. According to Dayan and Guillery-Girard (9), adolescent behaviors (impulsivity, sensation seeking, and risky behaviors) are more frequent between 15 and 25 years, reaching a maximum at 18 years and decreasing after 25 years [2]."
   ]
  },
  {
   "cell_type": "markdown",
   "metadata": {},
   "source": [
    "The physical vulnerability of older people places them at high risk for fatal and serious injuries [4]. Older driver errors may in part result from age-related decline in visual, cognitive, and mobility functioning in older age [6]. Psychoactive medications, commonly used by older drivers, can hamper their driving ability, and place them at increased risk of crash involvement [7]. Young male drivers are more likely than young females to be involved in collisions due to risk taking, such as excessive speeding and impairment by drugs and alcohol [8]. Regarding ones driving experience, lack of experience is suggested to be a leading cause of collisions or crashes [9]."
   ]
  },
  {
   "cell_type": "markdown",
   "metadata": {},
   "source": [
    "In general, in high-income countries, riders of motorized two-wheelers have the highest levels of risk. Use of such vehicles\n",
    "increases exposure to the risk of road traffic injuries [3].\n",
    "<hr>"
   ]
  },
  {
   "cell_type": "markdown",
   "metadata": {},
   "source": [
    "## Creation of variables:\n",
    "Based on the research conducted above and the findings of such research, the following variables were measured.\n",
    "\n",
    "Regarding the sample size of the dataset, 1000 particpants were selected in order to remove factors such as the data being swayed  in a particular manner or being influenced by the effect of outliers.\n",
    "\n",
    "## Variables:\n",
    "\n",
    "### Age\n",
    "Ranging from 17 to 66\n",
    "\n",
    "### Age category\n",
    "Creation of a categorical variable consisting of 3 categories:\n",
    "\n",
    "Young: 17 to 25 <br>\n",
    "Middle aged:  26-45 <br>\n",
    "Senior: 46-66 <br>\n",
    "\n",
    "### Gender\n",
    "Male or female\n",
    "\n",
    "### Driver experience (Years)\n",
    "Ranging from 0 to 49\n",
    "\n",
    "### Number of wheels\n",
    "Numbers of wheels on a participants primary vehicle e.g. motorcycle = 2, car = 4\n",
    "\n",
    "### Human factors\n",
    "Risk taking factors or risky behaviours were also taken into consideration\n",
    "\n",
    "<br>\n",
    "Smoker <br>\n",
    "Alcohol drinker <br>\n",
    "excessive speed of which previsouly lead to receiving penalty points <br>\n",
    "whether Participant is currently prescribed medication <br>\n",
    "\n",
    "<hr>"
   ]
  },
  {
   "cell_type": "markdown",
   "metadata": {},
   "source": [
    "# Initial creation of data for the simulated dataset"
   ]
  },
  {
   "cell_type": "markdown",
   "metadata": {},
   "source": [
    "### Importation of the needed libraries\n",
    "The following code must be utilised in order for the notebook to function properly."
   ]
  },
  {
   "cell_type": "code",
   "execution_count": 1,
   "metadata": {},
   "outputs": [],
   "source": [
    "# Importing needed libraries\n",
    "import numpy as np\n",
    "from numpy.random import default_rng\n",
    "rng = default_rng(5)\n",
    "\n",
    "import matplotlib.pyplot as plt \n",
    "import pandas as pd\n",
    "import seaborn as sns"
   ]
  },
  {
   "cell_type": "code",
   "execution_count": 2,
   "metadata": {},
   "outputs": [],
   "source": [
    "# Setting colour scheme for graphical elements i.e. plots\n",
    "sns.set(palette=\"magma\")"
   ]
  },
  {
   "cell_type": "markdown",
   "metadata": {},
   "source": [
    "### Creation of variable: Age and sample size"
   ]
  },
  {
   "cell_type": "markdown",
   "metadata": {},
   "source": [
    "Through the usage of the NumPy.random [13] package, the creation of a sample population occured. The sample size consists of 1000 participants."
   ]
  },
  {
   "cell_type": "markdown",
   "metadata": {},
   "source": [
    "Random age values were assigned to the participants relative to the range assigned to this varible. In order to match the sample size 1000 various ages were randomly generated. The age variable ranges from 17 to 66. 17 was chosen as it is the legal age for driving in Ireland [10], 66 refers to state pension age in Ireland as of 2021 [11]."
   ]
  },
  {
   "cell_type": "markdown",
   "metadata": {},
   "source": [
    "<hr>\n",
    "When generating random data, usage of a seed occured. The reasoning behind such an occurance was due to keeping the data stable when running through iterations of the notebook and also that of the data remaining consistent for analysis i.e. holding true to the participants of the sample. Various seeds were used for certain parameters, as to induce randomness within variables with binary outcomes i.e. where the outcome of either yes or no was only possible.\n",
    "<hr>"
   ]
  },
  {
   "cell_type": "code",
   "execution_count": 3,
   "metadata": {
    "scrolled": true
   },
   "outputs": [
    {
     "data": {
      "text/plain": [
       "array([58, 30, 22, 31, 37, 57, 39, 21, 33, 47, 57, 53, 66, 26, 61, 19, 44,\n",
       "       30, 27, 49, 32, 45, 30, 24, 54, 38, 50, 50, 64, 38, 27, 48, 63, 65,\n",
       "       60, 51, 36, 36, 18, 26, 33, 34, 45, 42, 51, 61, 60, 55, 65, 32, 62,\n",
       "       63, 28, 40, 45, 51, 52, 22, 40, 22, 64, 27, 39, 61, 43, 50, 41, 59,\n",
       "       46, 49, 39, 37, 46, 42, 56, 46, 40, 60, 27, 38, 41, 61, 39, 47, 20,\n",
       "       58, 39, 41, 21, 51, 48, 33, 55, 43, 19, 27, 29, 22, 42, 18, 43, 52,\n",
       "       45, 39, 30, 61, 33, 58, 39, 36, 51, 65, 56, 46, 22, 55, 56, 37, 35,\n",
       "       26, 66, 25, 41, 26, 56, 47, 24, 22, 21, 17, 59, 58, 35, 21, 30, 39,\n",
       "       43, 41, 47, 48, 48, 42, 39, 63, 58, 54, 19, 45, 61, 47, 26, 42, 44,\n",
       "       65, 44, 28, 22, 51, 66, 44, 21, 19, 56, 31, 41, 63, 29, 56, 21, 17,\n",
       "       18, 31, 41, 17, 47, 58, 42, 22, 58, 19, 42, 66, 34, 39, 29, 32, 28,\n",
       "       19, 53, 36, 66, 35, 56, 43, 48, 17, 60, 24, 65, 27, 55, 39, 55, 32,\n",
       "       29, 47, 17, 31, 50, 62, 40, 65, 31, 19, 51, 27, 65, 45, 65, 55, 51,\n",
       "       20, 58, 26, 21, 39, 22, 50, 66, 62, 63, 60, 29, 56, 29, 19, 55, 65,\n",
       "       57, 47, 64, 21, 22, 29, 20, 48, 19, 36, 42, 39, 46, 57, 61, 58, 54,\n",
       "       44, 46, 56, 40, 37, 58, 65, 35, 47, 19, 65, 57, 19, 35, 61, 48, 44,\n",
       "       22, 52, 48, 26, 40, 44, 44, 31, 42, 22, 46, 17, 18, 62, 58, 50, 40,\n",
       "       27, 38, 29, 26, 40, 43, 57, 43, 22, 22, 65, 24, 64, 48, 29, 38, 49,\n",
       "       47, 35, 36, 51, 48, 21, 53, 40, 59, 46, 43, 48, 36, 51, 32, 61, 52,\n",
       "       29, 60, 24, 63, 36, 35, 45, 18, 65, 59, 52, 22, 53, 35, 65, 55, 30,\n",
       "       27, 29, 46, 38, 39, 31, 60, 49, 20, 64, 17, 24, 25, 42, 58, 50, 21,\n",
       "       41, 45, 62, 28, 53, 38, 61, 57, 22, 30, 26, 25, 20, 59, 58, 38, 65,\n",
       "       54, 17, 50, 56, 51, 53, 44, 62, 65, 30, 30, 52, 28, 28, 47, 20, 24,\n",
       "       54, 49, 19, 53, 51, 44, 31, 26, 41, 25, 61, 61, 29, 66, 40, 42, 34,\n",
       "       63, 26, 28, 40, 40, 26, 63, 56, 50, 47, 63, 31, 28, 65, 19, 34, 20,\n",
       "       50, 62, 53, 59, 30, 21, 17, 18, 61, 28, 64, 24, 25, 30, 24, 44, 38,\n",
       "       31, 46, 57, 66, 60, 65, 58, 66, 34, 29, 57, 46, 46, 38, 37, 28, 23,\n",
       "       20, 26, 25, 33, 34, 53, 21, 25, 24, 43, 19, 66, 48, 28, 41, 24, 29,\n",
       "       43, 43, 63, 38, 60, 49, 60, 63, 28, 34, 57, 49, 25, 27, 32, 63, 49,\n",
       "       47, 57, 24, 65, 29, 64, 24, 49, 25, 59, 32, 51, 58, 34, 39, 50, 30,\n",
       "       43, 37, 31, 30, 22, 53, 43, 19, 62, 31, 28, 33, 32, 26, 66, 53, 46,\n",
       "       26, 48, 32, 33, 19, 65, 54, 47, 35, 38, 49, 39, 27, 34, 18, 38, 33,\n",
       "       29, 55, 30, 58, 45, 34, 41, 59, 17, 19, 27, 43, 37, 29, 35, 38, 32,\n",
       "       28, 38, 61, 17, 32, 56, 64, 55, 22, 23, 38, 17, 39, 50, 52, 24, 34,\n",
       "       24, 41, 19, 20, 66, 32, 34, 53, 43, 22, 38, 40, 64, 28, 21, 25, 24,\n",
       "       23, 39, 57, 41, 51, 18, 35, 27, 36, 53, 53, 58, 47, 46, 62, 60, 62,\n",
       "       46, 41, 33, 49, 44, 44, 18, 32, 65, 39, 39, 53, 59, 44, 50, 48, 50,\n",
       "       41, 30, 64, 56, 55, 48, 23, 35, 57, 28, 62, 65, 57, 26, 34, 23, 35,\n",
       "       38, 29, 55, 19, 23, 40, 45, 59, 33, 55, 42, 50, 51, 59, 18, 49, 41,\n",
       "       28, 44, 57, 56, 35, 54, 61, 53, 33, 26, 21, 26, 53, 60, 22, 36, 60,\n",
       "       36, 37, 57, 56, 24, 19, 58, 44, 17, 50, 52, 23, 59, 47, 41, 24, 24,\n",
       "       32, 39, 35, 63, 47, 46, 23, 30, 26, 66, 56, 36, 52, 46, 39, 53, 31,\n",
       "       44, 51, 60, 40, 66, 32, 58, 60, 54, 27, 40, 57, 53, 47, 18, 49, 19,\n",
       "       51, 55, 54, 58, 61, 41, 63, 64, 29, 60, 25, 54, 61, 56, 27, 27, 28,\n",
       "       28, 57, 58, 65, 39, 59, 47, 42, 50, 35, 27, 66, 23, 53, 22, 48, 25,\n",
       "       17, 59, 26, 22, 17, 29, 62, 24, 28, 41, 25, 59, 46, 41, 27, 26, 44,\n",
       "       66, 64, 47, 60, 61, 29, 46, 62, 64, 36, 57, 43, 35, 33, 56, 66, 49,\n",
       "       32, 36, 53, 56, 47, 63, 51, 40, 22, 49, 43, 27, 66, 31, 45, 25, 26,\n",
       "       44, 19, 44, 33, 20, 54, 65, 18, 38, 19, 63, 49, 36, 61, 42, 38, 20,\n",
       "       48, 42, 29, 42, 30, 31, 40, 38, 27, 64, 39, 37, 24, 48, 63, 18, 49,\n",
       "       35, 21, 28, 26, 65, 58, 49, 35, 65, 30, 46, 18, 65, 50, 40, 45, 58,\n",
       "       59, 43, 25, 37, 54, 54, 58, 60, 58, 66, 54, 39, 39, 58, 19, 44, 49,\n",
       "       41, 18, 53, 21, 20, 37, 62, 23, 21, 39, 39, 59, 29, 25, 35, 56, 52,\n",
       "       66, 34, 18, 65, 38, 32, 52, 29, 53, 20, 30, 33, 57, 63, 35, 18, 27,\n",
       "       23, 42, 48, 47, 41, 58, 35, 50, 34, 21, 29, 45, 33, 34, 44, 52, 20,\n",
       "       19, 20, 49, 30, 56, 41, 19, 30, 17, 45, 61, 20, 61, 37, 25, 60, 63,\n",
       "       43, 37, 56, 42, 58, 40, 30, 33, 29, 61, 43, 47, 65, 63, 49, 48, 22,\n",
       "       63, 36, 42, 29, 40, 45, 45, 54, 17, 49, 55, 56, 23, 60, 64, 53, 19,\n",
       "       35, 52, 40, 55, 40, 44, 31, 21, 35, 57, 59, 33, 48, 31],\n",
       "      dtype=int64)"
      ]
     },
     "execution_count": 3,
     "metadata": {},
     "output_type": "execute_result"
    }
   ],
   "source": [
    "# Creation of age variable relative to sample size\n",
    "rng = default_rng(2)\n",
    "age = rng.integers(17, 66, 1000, endpoint=True)\n",
    "age"
   ]
  },
  {
   "cell_type": "markdown",
   "metadata": {},
   "source": [
    "### Histogram of age distribution relative to sample size"
   ]
  },
  {
   "cell_type": "code",
   "execution_count": 96,
   "metadata": {},
   "outputs": [],
   "source": [
    "# Setting parameters for plot sizes\n",
    "plt.rcParams['figure.figsize'] = 16, 6"
   ]
  },
  {
   "cell_type": "code",
   "execution_count": 99,
   "metadata": {
    "scrolled": false
   },
   "outputs": [
    {
     "data": {
      "image/png": "[encoded data removed]",
      "text/plain": [
       "<Figure size 1152x432 with 1 Axes>"
      ]
     },
     "metadata": {},
     "output_type": "display_data"
    }
   ],
   "source": [
    "# Creation of histogram\n",
    "plt.hist(x=age, histtype=\"bar\", bins=50)\n",
    "plt.xlabel('Age')\n",
    "plt.ylabel('Count')\n",
    "plt.title('Age distribution across sample size');"
   ]
  },
  {
   "cell_type": "markdown",
   "metadata": {},
   "source": [
    "### Histogram with addition of a kernel density estimate"
   ]
  },
  {
   "cell_type": "code",
   "execution_count": 100,
   "metadata": {
    "scrolled": false
   },
   "outputs": [
    {
     "data": {
      "image/png": "[encoded data removed]",
      "text/plain": [
       "<Figure size 360x360 with 1 Axes>"
      ]
     },
     "metadata": {},
     "output_type": "display_data"
    }
   ],
   "source": [
    "# Usage of kde to spot any trends of the variable age\n",
    "ax = sns.displot(x=age, bins=20, kde=True)\n",
    "ax.set(xlabel=\"Age\");"
   ]
  },
  {
   "cell_type": "markdown",
   "metadata": {},
   "source": [
    "## Progression towards creating a simulated dataset"
   ]
  },
  {
   "cell_type": "markdown",
   "metadata": {},
   "source": [
    "The creation of a dataset occured through utilising a pandas dataframe [12]. A dataframe will allow for the statistical information of the various variables to be stored."
   ]
  },
  {
   "cell_type": "markdown",
   "metadata": {},
   "source": [
    "A new variable df is created and its purpose is to allow reference to the dataframe to be made. The dataframe makes reference to the previously created variable age and a column is created utilising this information. The dataframe is then printed so that its current state can be viewed."
   ]
  },
  {
   "cell_type": "code",
   "execution_count": 7,
   "metadata": {},
   "outputs": [
    {
     "data": {
      "text/html": [
       "<div>\n",
       "<style scoped>\n",
       "    .dataframe tbody tr th:only-of-type {\n",
       "        vertical-align: middle;\n",
       "    }\n",
       "\n",
       "    .dataframe tbody tr th {\n",
       "        vertical-align: top;\n",
       "    }\n",
       "\n",
       "    .dataframe thead th {\n",
       "        text-align: right;\n",
       "    }\n",
       "</style>\n",
       "<table border=\"1\" class=\"dataframe\">\n",
       "  <thead>\n",
       "    <tr style=\"text-align: right;\">\n",
       "      <th></th>\n",
       "      <th>age</th>\n",
       "    </tr>\n",
       "  </thead>\n",
       "  <tbody>\n",
       "    <tr>\n",
       "      <th>0</th>\n",
       "      <td>58</td>\n",
       "    </tr>\n",
       "    <tr>\n",
       "      <th>1</th>\n",
       "      <td>30</td>\n",
       "    </tr>\n",
       "    <tr>\n",
       "      <th>2</th>\n",
       "      <td>22</td>\n",
       "    </tr>\n",
       "    <tr>\n",
       "      <th>3</th>\n",
       "      <td>31</td>\n",
       "    </tr>\n",
       "    <tr>\n",
       "      <th>4</th>\n",
       "      <td>37</td>\n",
       "    </tr>\n",
       "    <tr>\n",
       "      <th>...</th>\n",
       "      <td>...</td>\n",
       "    </tr>\n",
       "    <tr>\n",
       "      <th>995</th>\n",
       "      <td>57</td>\n",
       "    </tr>\n",
       "    <tr>\n",
       "      <th>996</th>\n",
       "      <td>59</td>\n",
       "    </tr>\n",
       "    <tr>\n",
       "      <th>997</th>\n",
       "      <td>33</td>\n",
       "    </tr>\n",
       "    <tr>\n",
       "      <th>998</th>\n",
       "      <td>48</td>\n",
       "    </tr>\n",
       "    <tr>\n",
       "      <th>999</th>\n",
       "      <td>31</td>\n",
       "    </tr>\n",
       "  </tbody>\n",
       "</table>\n",
       "<p>1000 rows × 1 columns</p>\n",
       "</div>"
      ],
      "text/plain": [
       "     age\n",
       "0     58\n",
       "1     30\n",
       "2     22\n",
       "3     31\n",
       "4     37\n",
       "..   ...\n",
       "995   57\n",
       "996   59\n",
       "997   33\n",
       "998   48\n",
       "999   31\n",
       "\n",
       "[1000 rows x 1 columns]"
      ]
     },
     "execution_count": 7,
     "metadata": {},
     "output_type": "execute_result"
    }
   ],
   "source": [
    "# Assigning varible df as a reference to the dataframe, additon of age column\n",
    "# having previoulsy imported pandas, utilisation of pandas will occur\n",
    "df = pd.DataFrame(age, columns=[\"age\"])\n",
    "# dataframe is printed to depict its current state\n",
    "df"
   ]
  },
  {
   "cell_type": "markdown",
   "metadata": {},
   "source": [
    "### Creation of Categorical Variable: Age Category"
   ]
  },
  {
   "cell_type": "markdown",
   "metadata": {},
   "source": [
    "Reference to the age variable is made and this information is further segemented into 3 various age categories, that of young, middle aged and senior."
   ]
  },
  {
   "cell_type": "code",
   "execution_count": 8,
   "metadata": {
    "scrolled": false
   },
   "outputs": [
    {
     "data": {
      "text/html": [
       "<div>\n",
       "<style scoped>\n",
       "    .dataframe tbody tr th:only-of-type {\n",
       "        vertical-align: middle;\n",
       "    }\n",
       "\n",
       "    .dataframe tbody tr th {\n",
       "        vertical-align: top;\n",
       "    }\n",
       "\n",
       "    .dataframe thead th {\n",
       "        text-align: right;\n",
       "    }\n",
       "</style>\n",
       "<table border=\"1\" class=\"dataframe\">\n",
       "  <thead>\n",
       "    <tr style=\"text-align: right;\">\n",
       "      <th></th>\n",
       "      <th>age</th>\n",
       "      <th>age category</th>\n",
       "    </tr>\n",
       "  </thead>\n",
       "  <tbody>\n",
       "    <tr>\n",
       "      <th>0</th>\n",
       "      <td>58</td>\n",
       "      <td>senior</td>\n",
       "    </tr>\n",
       "    <tr>\n",
       "      <th>1</th>\n",
       "      <td>30</td>\n",
       "      <td>middle aged</td>\n",
       "    </tr>\n",
       "    <tr>\n",
       "      <th>2</th>\n",
       "      <td>22</td>\n",
       "      <td>young</td>\n",
       "    </tr>\n",
       "    <tr>\n",
       "      <th>3</th>\n",
       "      <td>31</td>\n",
       "      <td>middle aged</td>\n",
       "    </tr>\n",
       "    <tr>\n",
       "      <th>4</th>\n",
       "      <td>37</td>\n",
       "      <td>middle aged</td>\n",
       "    </tr>\n",
       "    <tr>\n",
       "      <th>...</th>\n",
       "      <td>...</td>\n",
       "      <td>...</td>\n",
       "    </tr>\n",
       "    <tr>\n",
       "      <th>995</th>\n",
       "      <td>57</td>\n",
       "      <td>senior</td>\n",
       "    </tr>\n",
       "    <tr>\n",
       "      <th>996</th>\n",
       "      <td>59</td>\n",
       "      <td>senior</td>\n",
       "    </tr>\n",
       "    <tr>\n",
       "      <th>997</th>\n",
       "      <td>33</td>\n",
       "      <td>middle aged</td>\n",
       "    </tr>\n",
       "    <tr>\n",
       "      <th>998</th>\n",
       "      <td>48</td>\n",
       "      <td>middle aged</td>\n",
       "    </tr>\n",
       "    <tr>\n",
       "      <th>999</th>\n",
       "      <td>31</td>\n",
       "      <td>middle aged</td>\n",
       "    </tr>\n",
       "  </tbody>\n",
       "</table>\n",
       "<p>1000 rows × 2 columns</p>\n",
       "</div>"
      ],
      "text/plain": [
       "     age age category\n",
       "0     58       senior\n",
       "1     30  middle aged\n",
       "2     22        young\n",
       "3     31  middle aged\n",
       "4     37  middle aged\n",
       "..   ...          ...\n",
       "995   57       senior\n",
       "996   59       senior\n",
       "997   33  middle aged\n",
       "998   48  middle aged\n",
       "999   31  middle aged\n",
       "\n",
       "[1000 rows x 2 columns]"
      ]
     },
     "execution_count": 8,
     "metadata": {},
     "output_type": "execute_result"
    }
   ],
   "source": [
    "# Creating a new column within our dataframe and segmenting the variable age into categories\n",
    "# References [14]\n",
    "df['age category'] = np.where(df['age'] > 50, 'senior', (np.where(df['age'] <25, 'young', 'middle aged')))\n",
    "# Printing the dataframe to view its new addition\n",
    "df"
   ]
  },
  {
   "cell_type": "markdown",
   "metadata": {},
   "source": [
    "### Creation of Categorical Variable: Gender"
   ]
  },
  {
   "cell_type": "code",
   "execution_count": 9,
   "metadata": {
    "scrolled": false
   },
   "outputs": [
    {
     "data": {
      "text/html": [
       "<div>\n",
       "<style scoped>\n",
       "    .dataframe tbody tr th:only-of-type {\n",
       "        vertical-align: middle;\n",
       "    }\n",
       "\n",
       "    .dataframe tbody tr th {\n",
       "        vertical-align: top;\n",
       "    }\n",
       "\n",
       "    .dataframe thead th {\n",
       "        text-align: right;\n",
       "    }\n",
       "</style>\n",
       "<table border=\"1\" class=\"dataframe\">\n",
       "  <thead>\n",
       "    <tr style=\"text-align: right;\">\n",
       "      <th></th>\n",
       "      <th>age</th>\n",
       "      <th>age category</th>\n",
       "      <th>gender</th>\n",
       "    </tr>\n",
       "  </thead>\n",
       "  <tbody>\n",
       "    <tr>\n",
       "      <th>0</th>\n",
       "      <td>58</td>\n",
       "      <td>senior</td>\n",
       "      <td>male</td>\n",
       "    </tr>\n",
       "    <tr>\n",
       "      <th>1</th>\n",
       "      <td>30</td>\n",
       "      <td>middle aged</td>\n",
       "      <td>male</td>\n",
       "    </tr>\n",
       "    <tr>\n",
       "      <th>2</th>\n",
       "      <td>22</td>\n",
       "      <td>young</td>\n",
       "      <td>female</td>\n",
       "    </tr>\n",
       "    <tr>\n",
       "      <th>3</th>\n",
       "      <td>31</td>\n",
       "      <td>middle aged</td>\n",
       "      <td>male</td>\n",
       "    </tr>\n",
       "    <tr>\n",
       "      <th>4</th>\n",
       "      <td>37</td>\n",
       "      <td>middle aged</td>\n",
       "      <td>female</td>\n",
       "    </tr>\n",
       "    <tr>\n",
       "      <th>...</th>\n",
       "      <td>...</td>\n",
       "      <td>...</td>\n",
       "      <td>...</td>\n",
       "    </tr>\n",
       "    <tr>\n",
       "      <th>995</th>\n",
       "      <td>57</td>\n",
       "      <td>senior</td>\n",
       "      <td>male</td>\n",
       "    </tr>\n",
       "    <tr>\n",
       "      <th>996</th>\n",
       "      <td>59</td>\n",
       "      <td>senior</td>\n",
       "      <td>male</td>\n",
       "    </tr>\n",
       "    <tr>\n",
       "      <th>997</th>\n",
       "      <td>33</td>\n",
       "      <td>middle aged</td>\n",
       "      <td>female</td>\n",
       "    </tr>\n",
       "    <tr>\n",
       "      <th>998</th>\n",
       "      <td>48</td>\n",
       "      <td>middle aged</td>\n",
       "      <td>male</td>\n",
       "    </tr>\n",
       "    <tr>\n",
       "      <th>999</th>\n",
       "      <td>31</td>\n",
       "      <td>middle aged</td>\n",
       "      <td>male</td>\n",
       "    </tr>\n",
       "  </tbody>\n",
       "</table>\n",
       "<p>1000 rows × 3 columns</p>\n",
       "</div>"
      ],
      "text/plain": [
       "     age age category  gender\n",
       "0     58       senior    male\n",
       "1     30  middle aged    male\n",
       "2     22        young  female\n",
       "3     31  middle aged    male\n",
       "4     37  middle aged  female\n",
       "..   ...          ...     ...\n",
       "995   57       senior    male\n",
       "996   59       senior    male\n",
       "997   33  middle aged  female\n",
       "998   48  middle aged    male\n",
       "999   31  middle aged    male\n",
       "\n",
       "[1000 rows x 3 columns]"
      ]
     },
     "execution_count": 9,
     "metadata": {},
     "output_type": "execute_result"
    }
   ],
   "source": [
    "rng = default_rng(1)\n",
    "\n",
    "# Creating variable where output is either 0 or 1\n",
    "gender = rng.binomial(1, .5, 1000)\n",
    "# Assigning values for 0 and 1 i.e. male or female\n",
    "df['gender'] = np.where(gender > 0, 'male' , 'female')\n",
    "# Printing the dataframe to view its new addition\n",
    "df"
   ]
  },
  {
   "cell_type": "markdown",
   "metadata": {},
   "source": [
    "### Creation of variable: Numbers of Years Driving Experience"
   ]
  },
  {
   "cell_type": "markdown",
   "metadata": {},
   "source": [
    "As previously stated the age variable ranges from 17 to 66, thus the variable for number of years driving experience ranges from that of 0 to 49 i.e. if ones age is 17 their years of experience is 0, if ones age is 18 their years of experience is 1 etc.\n",
    "\n",
    "    "
   ]
  },
  {
   "cell_type": "code",
   "execution_count": 10,
   "metadata": {},
   "outputs": [],
   "source": [
    "rng = default_rng(5)\n",
    "\n",
    "# Creating a list\n",
    "yearsdriving = []\n",
    "\n",
    "# for loop to iterate through age variable\n",
    "for x in df['age']:\n",
    "    # addition of info to list when a specific condition is met\n",
    "    yearsdriving.append( 0 if x == 17 else rng.integers(0, x-17))\n",
    "\n",
    "#Creating column within dataframe\n",
    "df['years of driving'] = yearsdriving"
   ]
  },
  {
   "cell_type": "code",
   "execution_count": 11,
   "metadata": {
    "scrolled": false
   },
   "outputs": [
    {
     "data": {
      "text/html": [
       "<div>\n",
       "<style scoped>\n",
       "    .dataframe tbody tr th:only-of-type {\n",
       "        vertical-align: middle;\n",
       "    }\n",
       "\n",
       "    .dataframe tbody tr th {\n",
       "        vertical-align: top;\n",
       "    }\n",
       "\n",
       "    .dataframe thead th {\n",
       "        text-align: right;\n",
       "    }\n",
       "</style>\n",
       "<table border=\"1\" class=\"dataframe\">\n",
       "  <thead>\n",
       "    <tr style=\"text-align: right;\">\n",
       "      <th></th>\n",
       "      <th>age</th>\n",
       "      <th>age category</th>\n",
       "      <th>gender</th>\n",
       "      <th>years of driving</th>\n",
       "    </tr>\n",
       "  </thead>\n",
       "  <tbody>\n",
       "    <tr>\n",
       "      <th>0</th>\n",
       "      <td>58</td>\n",
       "      <td>senior</td>\n",
       "      <td>male</td>\n",
       "      <td>27</td>\n",
       "    </tr>\n",
       "    <tr>\n",
       "      <th>1</th>\n",
       "      <td>30</td>\n",
       "      <td>middle aged</td>\n",
       "      <td>male</td>\n",
       "      <td>10</td>\n",
       "    </tr>\n",
       "    <tr>\n",
       "      <th>2</th>\n",
       "      <td>22</td>\n",
       "      <td>young</td>\n",
       "      <td>female</td>\n",
       "      <td>0</td>\n",
       "    </tr>\n",
       "    <tr>\n",
       "      <th>3</th>\n",
       "      <td>31</td>\n",
       "      <td>middle aged</td>\n",
       "      <td>male</td>\n",
       "      <td>11</td>\n",
       "    </tr>\n",
       "    <tr>\n",
       "      <th>4</th>\n",
       "      <td>37</td>\n",
       "      <td>middle aged</td>\n",
       "      <td>female</td>\n",
       "      <td>9</td>\n",
       "    </tr>\n",
       "    <tr>\n",
       "      <th>...</th>\n",
       "      <td>...</td>\n",
       "      <td>...</td>\n",
       "      <td>...</td>\n",
       "      <td>...</td>\n",
       "    </tr>\n",
       "    <tr>\n",
       "      <th>995</th>\n",
       "      <td>57</td>\n",
       "      <td>senior</td>\n",
       "      <td>male</td>\n",
       "      <td>21</td>\n",
       "    </tr>\n",
       "    <tr>\n",
       "      <th>996</th>\n",
       "      <td>59</td>\n",
       "      <td>senior</td>\n",
       "      <td>male</td>\n",
       "      <td>26</td>\n",
       "    </tr>\n",
       "    <tr>\n",
       "      <th>997</th>\n",
       "      <td>33</td>\n",
       "      <td>middle aged</td>\n",
       "      <td>female</td>\n",
       "      <td>12</td>\n",
       "    </tr>\n",
       "    <tr>\n",
       "      <th>998</th>\n",
       "      <td>48</td>\n",
       "      <td>middle aged</td>\n",
       "      <td>male</td>\n",
       "      <td>22</td>\n",
       "    </tr>\n",
       "    <tr>\n",
       "      <th>999</th>\n",
       "      <td>31</td>\n",
       "      <td>middle aged</td>\n",
       "      <td>male</td>\n",
       "      <td>1</td>\n",
       "    </tr>\n",
       "  </tbody>\n",
       "</table>\n",
       "<p>1000 rows × 4 columns</p>\n",
       "</div>"
      ],
      "text/plain": [
       "     age age category  gender  years of driving\n",
       "0     58       senior    male                27\n",
       "1     30  middle aged    male                10\n",
       "2     22        young  female                 0\n",
       "3     31  middle aged    male                11\n",
       "4     37  middle aged  female                 9\n",
       "..   ...          ...     ...               ...\n",
       "995   57       senior    male                21\n",
       "996   59       senior    male                26\n",
       "997   33  middle aged  female                12\n",
       "998   48  middle aged    male                22\n",
       "999   31  middle aged    male                 1\n",
       "\n",
       "[1000 rows x 4 columns]"
      ]
     },
     "execution_count": 11,
     "metadata": {},
     "output_type": "execute_result"
    }
   ],
   "source": [
    "# Printing the dataframe to view its new addition\n",
    "df"
   ]
  },
  {
   "cell_type": "markdown",
   "metadata": {},
   "source": [
    "### Histogram of participants number of years driving"
   ]
  },
  {
   "cell_type": "code",
   "execution_count": 101,
   "metadata": {},
   "outputs": [
    {
     "data": {
      "image/png": "[encoded data removed]",
      "text/plain": [
       "<Figure size 1152x432 with 1 Axes>"
      ]
     },
     "metadata": {},
     "output_type": "display_data"
    }
   ],
   "source": [
    "plt.hist(x=yearsdriving, histtype=\"bar\", bins=50)\n",
    "plt.xlabel('Age')\n",
    "plt.ylabel('Count')\n",
    "plt.title('No. of Years Driving');"
   ]
  },
  {
   "cell_type": "markdown",
   "metadata": {},
   "source": [
    "### Creation of Categorical Variable: Driver Experience"
   ]
  },
  {
   "cell_type": "code",
   "execution_count": 13,
   "metadata": {},
   "outputs": [],
   "source": [
    "# Addition of new categorical data relativve to years driving experience\n",
    "# Each participant is assigned a category based on their number of years driving experience\n",
    "# Either Novice, Intermediate  or Experienced\n",
    "df['driving experience'] = np.where(df['years of driving'] > 20, 'Experienced', (np.where(df['years of driving'] <2, 'Novice', 'Intermediate')))"
   ]
  },
  {
   "cell_type": "code",
   "execution_count": 14,
   "metadata": {
    "scrolled": false
   },
   "outputs": [
    {
     "data": {
      "text/html": [
       "<div>\n",
       "<style scoped>\n",
       "    .dataframe tbody tr th:only-of-type {\n",
       "        vertical-align: middle;\n",
       "    }\n",
       "\n",
       "    .dataframe tbody tr th {\n",
       "        vertical-align: top;\n",
       "    }\n",
       "\n",
       "    .dataframe thead th {\n",
       "        text-align: right;\n",
       "    }\n",
       "</style>\n",
       "<table border=\"1\" class=\"dataframe\">\n",
       "  <thead>\n",
       "    <tr style=\"text-align: right;\">\n",
       "      <th></th>\n",
       "      <th>age</th>\n",
       "      <th>age category</th>\n",
       "      <th>gender</th>\n",
       "      <th>years of driving</th>\n",
       "      <th>driving experience</th>\n",
       "    </tr>\n",
       "  </thead>\n",
       "  <tbody>\n",
       "    <tr>\n",
       "      <th>0</th>\n",
       "      <td>58</td>\n",
       "      <td>senior</td>\n",
       "      <td>male</td>\n",
       "      <td>27</td>\n",
       "      <td>Experienced</td>\n",
       "    </tr>\n",
       "    <tr>\n",
       "      <th>1</th>\n",
       "      <td>30</td>\n",
       "      <td>middle aged</td>\n",
       "      <td>male</td>\n",
       "      <td>10</td>\n",
       "      <td>Intermediate</td>\n",
       "    </tr>\n",
       "    <tr>\n",
       "      <th>2</th>\n",
       "      <td>22</td>\n",
       "      <td>young</td>\n",
       "      <td>female</td>\n",
       "      <td>0</td>\n",
       "      <td>Novice</td>\n",
       "    </tr>\n",
       "    <tr>\n",
       "      <th>3</th>\n",
       "      <td>31</td>\n",
       "      <td>middle aged</td>\n",
       "      <td>male</td>\n",
       "      <td>11</td>\n",
       "      <td>Intermediate</td>\n",
       "    </tr>\n",
       "    <tr>\n",
       "      <th>4</th>\n",
       "      <td>37</td>\n",
       "      <td>middle aged</td>\n",
       "      <td>female</td>\n",
       "      <td>9</td>\n",
       "      <td>Intermediate</td>\n",
       "    </tr>\n",
       "    <tr>\n",
       "      <th>...</th>\n",
       "      <td>...</td>\n",
       "      <td>...</td>\n",
       "      <td>...</td>\n",
       "      <td>...</td>\n",
       "      <td>...</td>\n",
       "    </tr>\n",
       "    <tr>\n",
       "      <th>995</th>\n",
       "      <td>57</td>\n",
       "      <td>senior</td>\n",
       "      <td>male</td>\n",
       "      <td>21</td>\n",
       "      <td>Experienced</td>\n",
       "    </tr>\n",
       "    <tr>\n",
       "      <th>996</th>\n",
       "      <td>59</td>\n",
       "      <td>senior</td>\n",
       "      <td>male</td>\n",
       "      <td>26</td>\n",
       "      <td>Experienced</td>\n",
       "    </tr>\n",
       "    <tr>\n",
       "      <th>997</th>\n",
       "      <td>33</td>\n",
       "      <td>middle aged</td>\n",
       "      <td>female</td>\n",
       "      <td>12</td>\n",
       "      <td>Intermediate</td>\n",
       "    </tr>\n",
       "    <tr>\n",
       "      <th>998</th>\n",
       "      <td>48</td>\n",
       "      <td>middle aged</td>\n",
       "      <td>male</td>\n",
       "      <td>22</td>\n",
       "      <td>Experienced</td>\n",
       "    </tr>\n",
       "    <tr>\n",
       "      <th>999</th>\n",
       "      <td>31</td>\n",
       "      <td>middle aged</td>\n",
       "      <td>male</td>\n",
       "      <td>1</td>\n",
       "      <td>Novice</td>\n",
       "    </tr>\n",
       "  </tbody>\n",
       "</table>\n",
       "<p>1000 rows × 5 columns</p>\n",
       "</div>"
      ],
      "text/plain": [
       "     age age category  gender  years of driving driving experience\n",
       "0     58       senior    male                27        Experienced\n",
       "1     30  middle aged    male                10       Intermediate\n",
       "2     22        young  female                 0             Novice\n",
       "3     31  middle aged    male                11       Intermediate\n",
       "4     37  middle aged  female                 9       Intermediate\n",
       "..   ...          ...     ...               ...                ...\n",
       "995   57       senior    male                21        Experienced\n",
       "996   59       senior    male                26        Experienced\n",
       "997   33  middle aged  female                12       Intermediate\n",
       "998   48  middle aged    male                22        Experienced\n",
       "999   31  middle aged    male                 1             Novice\n",
       "\n",
       "[1000 rows x 5 columns]"
      ]
     },
     "execution_count": 14,
     "metadata": {},
     "output_type": "execute_result"
    }
   ],
   "source": [
    "# Printing the dataframe to view its new addition\n",
    "df"
   ]
  },
  {
   "cell_type": "markdown",
   "metadata": {},
   "source": [
    "### Catplot of variable: Driving Experience"
   ]
  },
  {
   "cell_type": "code",
   "execution_count": 102,
   "metadata": {},
   "outputs": [
    {
     "data": {
      "image/png": "[encoded data removed]",
      "text/plain": [
       "<Figure size 360x360 with 1 Axes>"
      ]
     },
     "metadata": {},
     "output_type": "display_data"
    }
   ],
   "source": [
    "sns.catplot(x=df['driving experience'], kind=\"count\", data=df);"
   ]
  },
  {
   "cell_type": "markdown",
   "metadata": {},
   "source": [
    "### Creation of variable: Number of wheels, of primary vehicle"
   ]
  },
  {
   "cell_type": "code",
   "execution_count": 16,
   "metadata": {},
   "outputs": [],
   "source": [
    "rng = default_rng(1)\n",
    "\n",
    "# Creation of variable with outcome with that of either 1 or 0\n",
    "wheels = rng.binomial(1, .8, 1000)\n",
    "# Variable is added to dataframe as new column and values are assigned as either yes or no\n",
    "df['no. of wheels'] = np.where(wheels > 0, '4' , '2')"
   ]
  },
  {
   "cell_type": "markdown",
   "metadata": {},
   "source": [
    "### Catplot of variable: Number of wheels on participants primary vehicle"
   ]
  },
  {
   "cell_type": "code",
   "execution_count": 17,
   "metadata": {},
   "outputs": [
    {
     "data": {
      "image/png": "[encoded data removed]",
      "text/plain": [
       "<Figure size 360x360 with 1 Axes>"
      ]
     },
     "metadata": {},
     "output_type": "display_data"
    }
   ],
   "source": [
    "sns.catplot(x=df['no. of wheels'], kind=\"count\", data=df);"
   ]
  },
  {
   "cell_type": "markdown",
   "metadata": {},
   "source": [
    "### Creation of variable: Whether participant is a smoker or not"
   ]
  },
  {
   "cell_type": "code",
   "execution_count": 18,
   "metadata": {},
   "outputs": [],
   "source": [
    "rng = default_rng(4)\n",
    "\n",
    "# Creation of variable with outcome with that of either 1 or 0\n",
    "smoker = rng.binomial(1, .5, 1000)\n",
    "# Variable is added to dataframe as new column and values are assigned as either yes or no\n",
    "df['smoker'] = np.where(smoker > 0, 'yes' , 'no')"
   ]
  },
  {
   "cell_type": "markdown",
   "metadata": {},
   "source": [
    "### Catplot of variable: Whether participant is a smoker"
   ]
  },
  {
   "cell_type": "code",
   "execution_count": 19,
   "metadata": {},
   "outputs": [
    {
     "data": {
      "image/png": "[encoded data removed]",
      "text/plain": [
       "<Figure size 360x360 with 1 Axes>"
      ]
     },
     "metadata": {},
     "output_type": "display_data"
    }
   ],
   "source": [
    "sns.catplot(x=df['smoker'], kind=\"count\", data=df);"
   ]
  },
  {
   "cell_type": "markdown",
   "metadata": {},
   "source": [
    "### Creation of variable: Whether participant drinks alcohol regularly or not"
   ]
  },
  {
   "cell_type": "code",
   "execution_count": 20,
   "metadata": {},
   "outputs": [],
   "source": [
    "rng = default_rng(2)\n",
    "\n",
    "# Creation of variable with outcome with that of either 1 or 0\n",
    "drinker = rng.binomial(1, .6, 1000)\n",
    "# Variable is added to dataframe as new column and values are assigned as either yes or no\n",
    "df['alcohol drinker'] = np.where(drinker > 0, 'yes' , 'no')"
   ]
  },
  {
   "cell_type": "markdown",
   "metadata": {},
   "source": [
    "### Catplot of variable: Whether participant drinks alcohol"
   ]
  },
  {
   "cell_type": "code",
   "execution_count": 21,
   "metadata": {},
   "outputs": [
    {
     "data": {
      "image/png": "[encoded data removed]",
      "text/plain": [
       "<Figure size 360x360 with 1 Axes>"
      ]
     },
     "metadata": {},
     "output_type": "display_data"
    }
   ],
   "source": [
    "sns.catplot(x=df['alcohol drinker'], kind=\"count\", data=df);"
   ]
  },
  {
   "cell_type": "markdown",
   "metadata": {},
   "source": [
    "### Creation of variable: Whether participant has previously received penalty points for speeding"
   ]
  },
  {
   "cell_type": "code",
   "execution_count": 22,
   "metadata": {},
   "outputs": [],
   "source": [
    "rng = default_rng(5)\n",
    "\n",
    "# Creation of variable with outcome with that of either 1 or 0\n",
    "speed = rng.binomial(1, .25, 1000)\n",
    "# Variable is added to dataframe as new column and values are assigned as either yes or no\n",
    "df['penalty points'] = np.where(speed > 0, 'yes' , 'no')\n"
   ]
  },
  {
   "cell_type": "markdown",
   "metadata": {},
   "source": [
    "### Catplot of variable: Previsouly received penalty points for speeding"
   ]
  },
  {
   "cell_type": "code",
   "execution_count": 23,
   "metadata": {},
   "outputs": [
    {
     "data": {
      "image/png": "[encoded data removed]",
      "text/plain": [
       "<Figure size 360x360 with 1 Axes>"
      ]
     },
     "metadata": {},
     "output_type": "display_data"
    }
   ],
   "source": [
    "sns.catplot(x=df['penalty points'], kind=\"count\", data=df);"
   ]
  },
  {
   "cell_type": "markdown",
   "metadata": {},
   "source": [
    "### Creation of variable: Whether participant is currently prescribed medication"
   ]
  },
  {
   "cell_type": "code",
   "execution_count": 24,
   "metadata": {},
   "outputs": [],
   "source": [
    "rng = default_rng(6)\n",
    "\n",
    "# Creation of variable with outcome with that of either 1 or 0\n",
    "medication = rng.binomial(1, .5, 1000)\n",
    "# Variable is added to dataframe as new column and values are assigned as either yes or no\n",
    "df['prescribed medication'] = np.where(medication > 0, 'yes' , 'no')"
   ]
  },
  {
   "cell_type": "markdown",
   "metadata": {},
   "source": [
    "### Catplot of variable: Currently prescribed medication"
   ]
  },
  {
   "cell_type": "code",
   "execution_count": 107,
   "metadata": {},
   "outputs": [
    {
     "data": {
      "image/png": "[encoded data removed]",
      "text/plain": [
       "<Figure size 360x360 with 1 Axes>"
      ]
     },
     "metadata": {},
     "output_type": "display_data"
    }
   ],
   "source": [
    "sns.catplot(x=df['prescribed medication'], kind=\"count\", data=df);"
   ]
  },
  {
   "cell_type": "code",
   "execution_count": 26,
   "metadata": {
    "scrolled": false
   },
   "outputs": [
    {
     "data": {
      "text/html": [
       "<div>\n",
       "<style scoped>\n",
       "    .dataframe tbody tr th:only-of-type {\n",
       "        vertical-align: middle;\n",
       "    }\n",
       "\n",
       "    .dataframe tbody tr th {\n",
       "        vertical-align: top;\n",
       "    }\n",
       "\n",
       "    .dataframe thead th {\n",
       "        text-align: right;\n",
       "    }\n",
       "</style>\n",
       "<table border=\"1\" class=\"dataframe\">\n",
       "  <thead>\n",
       "    <tr style=\"text-align: right;\">\n",
       "      <th></th>\n",
       "      <th>age</th>\n",
       "      <th>age category</th>\n",
       "      <th>gender</th>\n",
       "      <th>years of driving</th>\n",
       "      <th>driving experience</th>\n",
       "      <th>no. of wheels</th>\n",
       "      <th>smoker</th>\n",
       "      <th>alcohol drinker</th>\n",
       "      <th>penalty points</th>\n",
       "      <th>prescribed medication</th>\n",
       "    </tr>\n",
       "  </thead>\n",
       "  <tbody>\n",
       "    <tr>\n",
       "      <th>0</th>\n",
       "      <td>58</td>\n",
       "      <td>senior</td>\n",
       "      <td>male</td>\n",
       "      <td>27</td>\n",
       "      <td>Experienced</td>\n",
       "      <td>4</td>\n",
       "      <td>yes</td>\n",
       "      <td>yes</td>\n",
       "      <td>yes</td>\n",
       "      <td>yes</td>\n",
       "    </tr>\n",
       "    <tr>\n",
       "      <th>1</th>\n",
       "      <td>30</td>\n",
       "      <td>middle aged</td>\n",
       "      <td>male</td>\n",
       "      <td>10</td>\n",
       "      <td>Intermediate</td>\n",
       "      <td>2</td>\n",
       "      <td>yes</td>\n",
       "      <td>yes</td>\n",
       "      <td>yes</td>\n",
       "      <td>no</td>\n",
       "    </tr>\n",
       "    <tr>\n",
       "      <th>2</th>\n",
       "      <td>22</td>\n",
       "      <td>young</td>\n",
       "      <td>female</td>\n",
       "      <td>0</td>\n",
       "      <td>Novice</td>\n",
       "      <td>4</td>\n",
       "      <td>yes</td>\n",
       "      <td>no</td>\n",
       "      <td>no</td>\n",
       "      <td>no</td>\n",
       "    </tr>\n",
       "    <tr>\n",
       "      <th>3</th>\n",
       "      <td>31</td>\n",
       "      <td>middle aged</td>\n",
       "      <td>male</td>\n",
       "      <td>11</td>\n",
       "      <td>Intermediate</td>\n",
       "      <td>2</td>\n",
       "      <td>no</td>\n",
       "      <td>yes</td>\n",
       "      <td>no</td>\n",
       "      <td>no</td>\n",
       "    </tr>\n",
       "    <tr>\n",
       "      <th>4</th>\n",
       "      <td>37</td>\n",
       "      <td>middle aged</td>\n",
       "      <td>female</td>\n",
       "      <td>9</td>\n",
       "      <td>Intermediate</td>\n",
       "      <td>4</td>\n",
       "      <td>yes</td>\n",
       "      <td>no</td>\n",
       "      <td>no</td>\n",
       "      <td>yes</td>\n",
       "    </tr>\n",
       "    <tr>\n",
       "      <th>...</th>\n",
       "      <td>...</td>\n",
       "      <td>...</td>\n",
       "      <td>...</td>\n",
       "      <td>...</td>\n",
       "      <td>...</td>\n",
       "      <td>...</td>\n",
       "      <td>...</td>\n",
       "      <td>...</td>\n",
       "      <td>...</td>\n",
       "      <td>...</td>\n",
       "    </tr>\n",
       "    <tr>\n",
       "      <th>995</th>\n",
       "      <td>57</td>\n",
       "      <td>senior</td>\n",
       "      <td>male</td>\n",
       "      <td>21</td>\n",
       "      <td>Experienced</td>\n",
       "      <td>4</td>\n",
       "      <td>yes</td>\n",
       "      <td>yes</td>\n",
       "      <td>yes</td>\n",
       "      <td>yes</td>\n",
       "    </tr>\n",
       "    <tr>\n",
       "      <th>996</th>\n",
       "      <td>59</td>\n",
       "      <td>senior</td>\n",
       "      <td>male</td>\n",
       "      <td>26</td>\n",
       "      <td>Experienced</td>\n",
       "      <td>2</td>\n",
       "      <td>yes</td>\n",
       "      <td>no</td>\n",
       "      <td>no</td>\n",
       "      <td>yes</td>\n",
       "    </tr>\n",
       "    <tr>\n",
       "      <th>997</th>\n",
       "      <td>33</td>\n",
       "      <td>middle aged</td>\n",
       "      <td>female</td>\n",
       "      <td>12</td>\n",
       "      <td>Intermediate</td>\n",
       "      <td>4</td>\n",
       "      <td>yes</td>\n",
       "      <td>no</td>\n",
       "      <td>no</td>\n",
       "      <td>yes</td>\n",
       "    </tr>\n",
       "    <tr>\n",
       "      <th>998</th>\n",
       "      <td>48</td>\n",
       "      <td>middle aged</td>\n",
       "      <td>male</td>\n",
       "      <td>22</td>\n",
       "      <td>Experienced</td>\n",
       "      <td>2</td>\n",
       "      <td>no</td>\n",
       "      <td>no</td>\n",
       "      <td>yes</td>\n",
       "      <td>yes</td>\n",
       "    </tr>\n",
       "    <tr>\n",
       "      <th>999</th>\n",
       "      <td>31</td>\n",
       "      <td>middle aged</td>\n",
       "      <td>male</td>\n",
       "      <td>1</td>\n",
       "      <td>Novice</td>\n",
       "      <td>2</td>\n",
       "      <td>yes</td>\n",
       "      <td>no</td>\n",
       "      <td>no</td>\n",
       "      <td>yes</td>\n",
       "    </tr>\n",
       "  </tbody>\n",
       "</table>\n",
       "<p>1000 rows × 10 columns</p>\n",
       "</div>"
      ],
      "text/plain": [
       "     age age category  gender  years of driving driving experience  \\\n",
       "0     58       senior    male                27        Experienced   \n",
       "1     30  middle aged    male                10       Intermediate   \n",
       "2     22        young  female                 0             Novice   \n",
       "3     31  middle aged    male                11       Intermediate   \n",
       "4     37  middle aged  female                 9       Intermediate   \n",
       "..   ...          ...     ...               ...                ...   \n",
       "995   57       senior    male                21        Experienced   \n",
       "996   59       senior    male                26        Experienced   \n",
       "997   33  middle aged  female                12       Intermediate   \n",
       "998   48  middle aged    male                22        Experienced   \n",
       "999   31  middle aged    male                 1             Novice   \n",
       "\n",
       "    no. of wheels smoker alcohol drinker penalty points prescribed medication  \n",
       "0               4    yes             yes            yes                   yes  \n",
       "1               2    yes             yes            yes                    no  \n",
       "2               4    yes              no             no                    no  \n",
       "3               2     no             yes             no                    no  \n",
       "4               4    yes              no             no                   yes  \n",
       "..            ...    ...             ...            ...                   ...  \n",
       "995             4    yes             yes            yes                   yes  \n",
       "996             2    yes              no             no                   yes  \n",
       "997             4    yes              no             no                   yes  \n",
       "998             2     no              no            yes                   yes  \n",
       "999             2    yes              no             no                   yes  \n",
       "\n",
       "[1000 rows x 10 columns]"
      ]
     },
     "execution_count": 26,
     "metadata": {},
     "output_type": "execute_result"
    }
   ],
   "source": [
    "# Printing the dataframe to view its new addition\n",
    "df"
   ]
  },
  {
   "cell_type": "markdown",
   "metadata": {},
   "source": [
    "<hr>"
   ]
  },
  {
   "cell_type": "markdown",
   "metadata": {},
   "source": [
    "## Creating a ranking system related to the current data created"
   ]
  },
  {
   "cell_type": "markdown",
   "metadata": {},
   "source": [
    "The ranking system is designed to estimate the likelihood of a participant getting into a road accident by looking at the collaborative effects of the variables and their potential impact. The ranking system will operate in such a manner: the value of each variable will be assigned a score. Upon each variable being assigned a score, the scores will then be added together. The score of a participants driver experience will then be taken away from ones total score, to provide the likelihood of a participant being in a road accident.\n",
    "\n",
    "\n",
    "\n",
    "A forumla is created to calculate an approximate categorical value of ones potential of being in a road accident.\n",
    "\n",
    "Assigning a variable (Alphabet letter) to the various varibles, for ease of simplifying the formula\n",
    "<hr> \n",
    "age category = a\n",
    "\n",
    "gender = b\n",
    "\n",
    "no. of wheels of on a participants primary vehicle = c\n",
    "\n",
    "smoker = d\n",
    "\n",
    "drinker = e\n",
    "\n",
    "previous penalty points = f\n",
    "\n",
    "medication = g\n",
    "\n",
    "driver experience = x\n",
    "<hr>\n",
    "Formula to calculate likelihood of a of partcipant being in a road accident\n",
    "\n",
    "\n",
    "$ (a + b + c + d + e + f + g) - x $\n",
    "\n",
    "<br>\n",
    "<br>\n",
    "<hr>"
   ]
  },
  {
   "cell_type": "markdown",
   "metadata": {},
   "source": [
    "### Creation of ranking score for a participants age category"
   ]
  },
  {
   "cell_type": "markdown",
   "metadata": {},
   "source": [
    "Participants are given 0 points if under classifcation of middle aged\n",
    "\n",
    "In contrast participants are given 1 point if under classifcation of young or senior"
   ]
  },
  {
   "cell_type": "code",
   "execution_count": 27,
   "metadata": {},
   "outputs": [],
   "source": [
    "# Usage of Numpy.where to assigned value for when a specific condition is met\n",
    "agecat = np.where(df['age'] > 50, 1, (np.where(df['age'] <25, 1, 0)))"
   ]
  },
  {
   "cell_type": "markdown",
   "metadata": {},
   "source": [
    "### Creation of ranking score for a participants driving experience"
   ]
  },
  {
   "cell_type": "markdown",
   "metadata": {},
   "source": [
    "Participants are given 0 points if they have more than 20 years driving experience\n",
    "\n",
    "In contrast participants are given 1 point less than 20 years driving experience"
   ]
  },
  {
   "cell_type": "code",
   "execution_count": 88,
   "metadata": {},
   "outputs": [],
   "source": [
    "# Usage of Numpy.where to assigned value for when a specific condition is met\n",
    "driverxp = np.where(df['years of driving'] > 20, 2, (np.where(df['years of driving'] <1, 0, 1 )))"
   ]
  },
  {
   "cell_type": "markdown",
   "metadata": {},
   "source": [
    "### Creation of variable accident potential"
   ]
  },
  {
   "cell_type": "code",
   "execution_count": 89,
   "metadata": {
    "scrolled": true
   },
   "outputs": [],
   "source": [
    "# Usage of formula to calculate accident potential\n",
    "acc = agecat + gender + wheels + smoker + drinker + speed + medication - driverxp"
   ]
  },
  {
   "cell_type": "code",
   "execution_count": 90,
   "metadata": {},
   "outputs": [],
   "source": [
    "# Addition of new column to dataframe - accident potential\n",
    "df['accident potential'] = np.where(acc > 4, 'high risk', (np.where(acc <2, 'low risk', 'moderate risk')))"
   ]
  },
  {
   "cell_type": "code",
   "execution_count": 109,
   "metadata": {},
   "outputs": [
    {
     "data": {
      "text/html": [
       "<div>\n",
       "<style scoped>\n",
       "    .dataframe tbody tr th:only-of-type {\n",
       "        vertical-align: middle;\n",
       "    }\n",
       "\n",
       "    .dataframe tbody tr th {\n",
       "        vertical-align: top;\n",
       "    }\n",
       "\n",
       "    .dataframe thead th {\n",
       "        text-align: right;\n",
       "    }\n",
       "</style>\n",
       "<table border=\"1\" class=\"dataframe\">\n",
       "  <thead>\n",
       "    <tr style=\"text-align: right;\">\n",
       "      <th></th>\n",
       "      <th>age</th>\n",
       "      <th>age category</th>\n",
       "      <th>gender</th>\n",
       "      <th>years of driving</th>\n",
       "      <th>driving experience</th>\n",
       "      <th>no. of wheels</th>\n",
       "      <th>smoker</th>\n",
       "      <th>alcohol drinker</th>\n",
       "      <th>penalty points</th>\n",
       "      <th>prescribed medication</th>\n",
       "      <th>accident potential</th>\n",
       "    </tr>\n",
       "  </thead>\n",
       "  <tbody>\n",
       "    <tr>\n",
       "      <th>0</th>\n",
       "      <td>58</td>\n",
       "      <td>senior</td>\n",
       "      <td>male</td>\n",
       "      <td>27</td>\n",
       "      <td>Experienced</td>\n",
       "      <td>4</td>\n",
       "      <td>yes</td>\n",
       "      <td>yes</td>\n",
       "      <td>yes</td>\n",
       "      <td>yes</td>\n",
       "      <td>high risk</td>\n",
       "    </tr>\n",
       "    <tr>\n",
       "      <th>1</th>\n",
       "      <td>30</td>\n",
       "      <td>middle aged</td>\n",
       "      <td>male</td>\n",
       "      <td>10</td>\n",
       "      <td>Intermediate</td>\n",
       "      <td>2</td>\n",
       "      <td>yes</td>\n",
       "      <td>yes</td>\n",
       "      <td>yes</td>\n",
       "      <td>no</td>\n",
       "      <td>moderate risk</td>\n",
       "    </tr>\n",
       "    <tr>\n",
       "      <th>2</th>\n",
       "      <td>22</td>\n",
       "      <td>young</td>\n",
       "      <td>female</td>\n",
       "      <td>0</td>\n",
       "      <td>Novice</td>\n",
       "      <td>4</td>\n",
       "      <td>yes</td>\n",
       "      <td>no</td>\n",
       "      <td>no</td>\n",
       "      <td>no</td>\n",
       "      <td>moderate risk</td>\n",
       "    </tr>\n",
       "    <tr>\n",
       "      <th>3</th>\n",
       "      <td>31</td>\n",
       "      <td>middle aged</td>\n",
       "      <td>male</td>\n",
       "      <td>11</td>\n",
       "      <td>Intermediate</td>\n",
       "      <td>2</td>\n",
       "      <td>no</td>\n",
       "      <td>yes</td>\n",
       "      <td>no</td>\n",
       "      <td>no</td>\n",
       "      <td>low risk</td>\n",
       "    </tr>\n",
       "    <tr>\n",
       "      <th>4</th>\n",
       "      <td>37</td>\n",
       "      <td>middle aged</td>\n",
       "      <td>female</td>\n",
       "      <td>9</td>\n",
       "      <td>Intermediate</td>\n",
       "      <td>4</td>\n",
       "      <td>yes</td>\n",
       "      <td>no</td>\n",
       "      <td>no</td>\n",
       "      <td>yes</td>\n",
       "      <td>moderate risk</td>\n",
       "    </tr>\n",
       "    <tr>\n",
       "      <th>...</th>\n",
       "      <td>...</td>\n",
       "      <td>...</td>\n",
       "      <td>...</td>\n",
       "      <td>...</td>\n",
       "      <td>...</td>\n",
       "      <td>...</td>\n",
       "      <td>...</td>\n",
       "      <td>...</td>\n",
       "      <td>...</td>\n",
       "      <td>...</td>\n",
       "      <td>...</td>\n",
       "    </tr>\n",
       "    <tr>\n",
       "      <th>995</th>\n",
       "      <td>57</td>\n",
       "      <td>senior</td>\n",
       "      <td>male</td>\n",
       "      <td>21</td>\n",
       "      <td>Experienced</td>\n",
       "      <td>4</td>\n",
       "      <td>yes</td>\n",
       "      <td>yes</td>\n",
       "      <td>yes</td>\n",
       "      <td>yes</td>\n",
       "      <td>high risk</td>\n",
       "    </tr>\n",
       "    <tr>\n",
       "      <th>996</th>\n",
       "      <td>59</td>\n",
       "      <td>senior</td>\n",
       "      <td>male</td>\n",
       "      <td>26</td>\n",
       "      <td>Experienced</td>\n",
       "      <td>2</td>\n",
       "      <td>yes</td>\n",
       "      <td>no</td>\n",
       "      <td>no</td>\n",
       "      <td>yes</td>\n",
       "      <td>moderate risk</td>\n",
       "    </tr>\n",
       "    <tr>\n",
       "      <th>997</th>\n",
       "      <td>33</td>\n",
       "      <td>middle aged</td>\n",
       "      <td>female</td>\n",
       "      <td>12</td>\n",
       "      <td>Intermediate</td>\n",
       "      <td>4</td>\n",
       "      <td>yes</td>\n",
       "      <td>no</td>\n",
       "      <td>no</td>\n",
       "      <td>yes</td>\n",
       "      <td>moderate risk</td>\n",
       "    </tr>\n",
       "    <tr>\n",
       "      <th>998</th>\n",
       "      <td>48</td>\n",
       "      <td>middle aged</td>\n",
       "      <td>male</td>\n",
       "      <td>22</td>\n",
       "      <td>Experienced</td>\n",
       "      <td>2</td>\n",
       "      <td>no</td>\n",
       "      <td>no</td>\n",
       "      <td>yes</td>\n",
       "      <td>yes</td>\n",
       "      <td>low risk</td>\n",
       "    </tr>\n",
       "    <tr>\n",
       "      <th>999</th>\n",
       "      <td>31</td>\n",
       "      <td>middle aged</td>\n",
       "      <td>male</td>\n",
       "      <td>1</td>\n",
       "      <td>Novice</td>\n",
       "      <td>2</td>\n",
       "      <td>yes</td>\n",
       "      <td>no</td>\n",
       "      <td>no</td>\n",
       "      <td>yes</td>\n",
       "      <td>moderate risk</td>\n",
       "    </tr>\n",
       "  </tbody>\n",
       "</table>\n",
       "<p>1000 rows × 11 columns</p>\n",
       "</div>"
      ],
      "text/plain": [
       "     age age category  gender  years of driving driving experience  \\\n",
       "0     58       senior    male                27        Experienced   \n",
       "1     30  middle aged    male                10       Intermediate   \n",
       "2     22        young  female                 0             Novice   \n",
       "3     31  middle aged    male                11       Intermediate   \n",
       "4     37  middle aged  female                 9       Intermediate   \n",
       "..   ...          ...     ...               ...                ...   \n",
       "995   57       senior    male                21        Experienced   \n",
       "996   59       senior    male                26        Experienced   \n",
       "997   33  middle aged  female                12       Intermediate   \n",
       "998   48  middle aged    male                22        Experienced   \n",
       "999   31  middle aged    male                 1             Novice   \n",
       "\n",
       "    no. of wheels smoker alcohol drinker penalty points prescribed medication  \\\n",
       "0               4    yes             yes            yes                   yes   \n",
       "1               2    yes             yes            yes                    no   \n",
       "2               4    yes              no             no                    no   \n",
       "3               2     no             yes             no                    no   \n",
       "4               4    yes              no             no                   yes   \n",
       "..            ...    ...             ...            ...                   ...   \n",
       "995             4    yes             yes            yes                   yes   \n",
       "996             2    yes              no             no                   yes   \n",
       "997             4    yes              no             no                   yes   \n",
       "998             2     no              no            yes                   yes   \n",
       "999             2    yes              no             no                   yes   \n",
       "\n",
       "    accident potential  \n",
       "0            high risk  \n",
       "1        moderate risk  \n",
       "2        moderate risk  \n",
       "3             low risk  \n",
       "4        moderate risk  \n",
       "..                 ...  \n",
       "995          high risk  \n",
       "996      moderate risk  \n",
       "997      moderate risk  \n",
       "998           low risk  \n",
       "999      moderate risk  \n",
       "\n",
       "[1000 rows x 11 columns]"
      ]
     },
     "execution_count": 109,
     "metadata": {},
     "output_type": "execute_result"
    }
   ],
   "source": [
    "# Print out the current status of dataset\n",
    "df"
   ]
  },
  {
   "cell_type": "markdown",
   "metadata": {},
   "source": [
    "<hr>"
   ]
  },
  {
   "cell_type": "markdown",
   "metadata": {},
   "source": [
    "## Exploring the relationship between several variables"
   ]
  },
  {
   "cell_type": "markdown",
   "metadata": {},
   "source": [
    "Mapping out the categorical data of a participants gender with that of ones driving experience."
   ]
  },
  {
   "cell_type": "code",
   "execution_count": 92,
   "metadata": {},
   "outputs": [
    {
     "data": {
      "image/png": "[encoded data removed]",
      "text/plain": [
       "<Figure size 1152x432 with 1 Axes>"
      ]
     },
     "metadata": {},
     "output_type": "display_data"
    }
   ],
   "source": [
    "sns.barplot(x=df['gender'], y=yearsdriving, hue=df['age category'], data=df);"
   ]
  },
  {
   "cell_type": "markdown",
   "metadata": {},
   "source": [
    "Based on the findings of the above barplot it is suggested that under the age category of senior, female partcipants have more experience driving than that of men. Under the middle age category, the reverse findings are found, where men are stated to have more experience. In terms of experience regarding the younger demographic, within this particular sample both male and female participant have similar levels of experience in driving."
   ]
  },
  {
   "cell_type": "code",
   "execution_count": 123,
   "metadata": {},
   "outputs": [
    {
     "data": {
      "image/png": "[encoded data removed]",
      "text/plain": [
       "<Figure size 1152x432 with 1 Axes>"
      ]
     },
     "metadata": {},
     "output_type": "display_data"
    }
   ],
   "source": [
    "ax = sns.barplot(x=age, y=yearsdriving, data=df);\n",
    "ax.set(xlabel='Age', ylabel='No. of Years driving', title=\"Insight regarding age and no. of years driving\");"
   ]
  },
  {
   "cell_type": "markdown",
   "metadata": {},
   "source": [
    "As one would naturally assume, there is a linear relationship between that of age and the number of years of which one has been driving for, as depicted above. The above barplot also, takes into consideration the fact that not every participant may have started driving at 17, thus it occurs within this sample of data that, those of a lesser age can often have more experience in a particular category than that of someone of a greater age."
   ]
  },
  {
   "cell_type": "markdown",
   "metadata": {},
   "source": [
    "## Comparison of gender in terms of driving experience"
   ]
  },
  {
   "cell_type": "code",
   "execution_count": 94,
   "metadata": {},
   "outputs": [
    {
     "data": {
      "image/png": "[encoded data removed]",
      "text/plain": [
       "<Figure size 1152x432 with 1 Axes>"
      ]
     },
     "metadata": {},
     "output_type": "display_data"
    }
   ],
   "source": [
    "sns.barplot(x=df['gender'], y=yearsdriving);"
   ]
  },
  {
   "cell_type": "markdown",
   "metadata": {},
   "source": [
    "Within our sample of data males have more experience in driving than females."
   ]
  },
  {
   "cell_type": "markdown",
   "metadata": {},
   "source": [
    "## Depicting the calculations of the formula created to assess ones potential to be in a road accident"
   ]
  },
  {
   "cell_type": "code",
   "execution_count": 95,
   "metadata": {
    "scrolled": false
   },
   "outputs": [
    {
     "data": {
      "image/png": "[encoded data removed]",
      "text/plain": [
       "<Figure size 360x360 with 1 Axes>"
      ]
     },
     "metadata": {},
     "output_type": "display_data"
    }
   ],
   "source": [
    "sns.catplot(x=df['accident potential'], kind=\"count\", data=df);"
   ]
  },
  {
   "cell_type": "markdown",
   "metadata": {},
   "source": [
    "Within our sample population as a whole, most participants fell into the cateogry of moderate risk i.e. out of the total sample size (1000) over 700 were within the category of moderate risk. 200 participants were in the category of low risk, while less than 100 were placed in the cateogry of high risk."
   ]
  },
  {
   "cell_type": "code",
   "execution_count": 113,
   "metadata": {
    "scrolled": false
   },
   "outputs": [
    {
     "data": {
      "image/png": "[encoded data removed]",
      "text/plain": [
       "<Figure size 1152x432 with 1 Axes>"
      ]
     },
     "metadata": {},
     "output_type": "display_data"
    }
   ],
   "source": [
    "sns.barplot(x=df['gender'], y=acc);"
   ]
  },
  {
   "cell_type": "markdown",
   "metadata": {},
   "source": [
    "When viewing ones accident potential through the lens of gender, as suggested with the findings of prior research, males are more inclined to take part in risky behaviour that can potientally lead to a road accident occuring.\n",
    "\n",
    "<hr>"
   ]
  },
  {
   "cell_type": "markdown",
   "metadata": {},
   "source": [
    "## References"
   ]
  },
  {
   "cell_type": "markdown",
   "metadata": {},
   "source": [
    "[1] World Health Organization; Violence and injury Prevention, Global status report on road safety 2015; https://www.who.int/violence_injury_prevention/road_safety_status/2015/en/\n",
    "\n",
    "[2] Frontiers in Psychiatry; Description of Various Factors Contributing to Traffic Accidents in Youth and Measures Proposed to Alleviate Recurrence: https://www.frontiersin.org/articles/10.3389/fpsyt.2017.00094/full\n",
    "\n",
    "[3] Department for transport; Reported road accidents involving young car drivers: Great Britain 2011 Road Accident Statistics Factsheet No. 1 – August 2012 https://assets.publishing.service.gov.uk/government/uploads/system/uploads/attachment_data/file/236989/young-drivers-2011.pdf\n",
    "\n",
    "[4] World Health Organization; Risk factors for road traffic injuries; page. 29 Unit 2.; https://www.who.int/violence_injury_prevention/road_traffic/activities/roadsafety_training_manual_unit_2.pdf\n",
    "\n",
    "[5] ScienceDirect; Accident Analysis & Prevention, Volume 115, June 2018, Pages 11-24, What are the factors that contribute to road accidents? An assessment of law enforcement views, ordinary drivers’ opinions, and road accident records; https://www.sciencedirect.com/science/article/pii/S0001457518300873#bib0155\n",
    "\n",
    "[6] OSTI.Gov; (U.S. Department of Energy Office of Scientific and Technical Information), Highway crash rates and age-related driver limitations: Literature review and evaluation of data bases; https://www.osti.gov/biblio/10149328\n",
    "\n",
    "[7] B. Hemmelgarn, S. Suissa, A. Huang, B. Jean-Francois, G. Pinard Benzodiazepine use and the risk of motor vehicle crash in the elderly, J. Am. Med. Assoc., 278 (1) (1997), pp. 27-31 ; https://jamanetwork.com/journals/jama/article-abstract/417260\n",
    "\n",
    "[8] D.J. Begg, J.D. Langley\n",
    "Identifying predictors of persistent non-alcohol or drug-related risky driving behaviours among a cohort of young adults; https://www.sciencedirect.com/science/article/abs/pii/S0001457504000296\n",
    "\n",
    "[9] A.T. McCartt, V.I. Shabanova, W.A. Leaf Driving experience, crashes and traffic citations of teenage beginning drivers, Accid. Anal. Prev., 35 (3) (2003), pp. 311-320; https://www.sciencedirect.com/science/article/abs/pii/S0001457502000064\n",
    "\n",
    "[10] Gov.ie, Service, Learn how to drive a car in Ireland; legal age to drive ireland https://www.gov.ie/en/service/8c675d-learn-how-to-drive-a-car-in-ireland/#:~:text=You%20need%20to%20be%20at,old%20to%20drive%20in%20Ireland.\n",
    "\n",
    "[11] Zurich, State retirement age in Ireland, Statepension age Ireland; https://www.zurich.ie/pensions-retirement/faqs/what-is-pension-age-in-ireland/#:~:text=The%20State%20retirement%20age%20in%20Ireland%20in%202021%20is%2066,age%20in%20order%20to%20qualify.\n",
    "\n",
    "[12] 10 minutes to pandas, Creation of DataFrame; https://pandas.pydata.org/pandas-docs/stable/user_guide/10min.html\n",
    "\n",
    "[13] Random sampling, (numpy.random), NumPy v1.19 Manual, routines; https://numpy.org/doc/stable/reference/random/index.html\n",
    "\n",
    "[14] Numpy.where, usage of multiple conditions; https://stackoverflow.com/questions/39109045/numpy-where-with-multiple-conditions\n",
    "\n"
   ]
  },
  {
   "cell_type": "code",
   "execution_count": null,
   "metadata": {},
   "outputs": [],
   "source": []
  }
 ],
 "metadata": {
  "kernelspec": {
   "display_name": "Python 3",
   "language": "python",
   "name": "python3"
  },
  "language_info": {
   "codemirror_mode": {
    "name": "ipython",
    "version": 3
   },
   "file_extension": ".py",
   "mimetype": "text/x-python",
   "name": "python",
   "nbconvert_exporter": "python",
   "pygments_lexer": "ipython3",
   "version": "3.8.5"
  }
 },
 "nbformat": 4,
 "nbformat_minor": 4
}
